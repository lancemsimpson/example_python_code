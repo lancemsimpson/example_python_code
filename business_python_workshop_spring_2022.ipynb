{
  "nbformat": 4,
  "nbformat_minor": 0,
  "metadata": {
    "colab": {
      "name": "business_python_workshop_spring_2022.ipynb",
      "provenance": [],
      "collapsed_sections": [],
      "include_colab_link": true
    },
    "kernelspec": {
      "name": "python3",
      "display_name": "Python 3"
    },
    "language_info": {
      "name": "python"
    }
  },
  "cells": [
    {
      "cell_type": "markdown",
      "metadata": {
        "id": "view-in-github",
        "colab_type": "text"
      },
      "source": [
        "<a href=\"https://colab.research.google.com/github/lsimpsonlibrary/example_python_code/blob/main/business_python_workshop_spring_2022.ipynb\" target=\"_parent\"><img src=\"https://colab.research.google.com/assets/colab-badge.svg\" alt=\"Open In Colab\"/></a>"
      ]
    },
    {
      "cell_type": "markdown",
      "metadata": {
        "id": "PVtJvcEPfwre"
      },
      "source": [
        "# **Using Python in Business Research**\n",
        "___________________________________________________________________\n",
        "April 8 (In-person) 3:00 p.m. to 4:00 p.m. \\\n",
        "**Lance Simpson** and **Mark Siciliano** \\\n",
        "*The University of Alabama Libraries* \\\n",
        "[Contact Information on UA Libraries Directory](https://www.lib.ua.edu/#/staffdir?liaison=1)\n"
      ]
    },
    {
      "cell_type": "markdown",
      "source": [
        "\n",
        "## **Today, attendees will learn how to:**\n",
        "\n",
        "* *Work with Python in Google Colaboratory* \n",
        "* *Load data into Colaboratory notebooks, import Python libraries, and save/share/format notebooks*\n",
        "* *Use built-in Python functions*\n",
        "* *Use the Pandas data analysis library to load tabular data into DataFrames.* "
      ],
      "metadata": {
        "id": "QmJWgyV9oTQ9"
      }
    },
    {
      "cell_type": "markdown",
      "source": [
        "# **Tools and Setup**\n",
        "___________________________________________________________________"
      ],
      "metadata": {
        "id": "6G_rBeoFoCZg"
      }
    },
    {
      "cell_type": "markdown",
      "metadata": {
        "id": "KKiVnNKYjgW6"
      },
      "source": [
        "## **Setup For Today**\n",
        "\n",
        "We will be working in a Google Colaboratory (Colab) notebook for the exercises today. \n",
        "\n",
        "1. Go to the link provided for this Colab notebook. \n",
        "2. Save a copy to your Google Drive. You should then be able to run and edit the code interactively.\n",
        "  * Once you open the link for the Colab notebook, select `File` from the menu bar at the top of the page.\n",
        "  * Select the option `Save a copy in Drive`.\n",
        "  * This should open a new window with the Colab document titled `copy business_python_workshop_spring_2022.ipynb`\n",
        "  * You're all set!"
      ]
    },
    {
      "cell_type": "markdown",
      "metadata": {
        "id": "IcxYmdGdgopl"
      },
      "source": [
        "## **What is Google Colaboratory (Colab) [1]?**\n",
        "\n",
        "1. Online Jupyter based environment for Python programming\n",
        "\n",
        "2. Free to use with Google account.\n",
        "\n",
        "3. Does not require setup or local installation. Code is run on a temporary virtual machine provided by Colab service.\n",
        "\n",
        "4. You can use Chrome, Firefox, or Safari. Other browsers may be supported.\n",
        "\n",
        "3. A \"Pro\" version is available if more computing resources are needed.\n",
        "\n",
        "\n",
        "\n",
        "________________________________________________________________________________\n",
        "* [1] See the [Google Research FAQ](https://research.google.com/colaboratory/faq.html)\n"
      ]
    },
    {
      "cell_type": "markdown",
      "source": [
        "# **Computational Thinking: Considering Python for Data Analysis**\n",
        "___________________________________________________________________"
      ],
      "metadata": {
        "id": "3bCWMKoHs5EF"
      }
    },
    {
      "cell_type": "markdown",
      "source": [
        "## **What is Python?**[2]\n",
        "\n",
        "* A scripting language\n",
        "* A powerful open source tool that can be used for data preparation and analysis\n",
        "* Available for use across multiple operating systems and online environments (like [Jupyter](https://jupyter.org/) and [Google Colab](https://colab.research.google.com/)!)\n",
        "\n",
        "### Working with Data: File Types [1]\n",
        "\n",
        "* `txt`, Text files\n",
        "* `csv`, Comma Seperated Values files\n",
        "* `xml`, Extensible Markup Language\n",
        "* `json`, a format that includes human and machine readable data, common for exports from web applications\n",
        "* `xlsx`, There are some libraries like Pandas that have the ability to read Excel files (we'll use one today!)\n",
        "\n",
        "### Tools for Utilizing Python\n",
        "\n",
        "* [Jupyter](https://jupyter.org/) and [Google Colab](https://colab.research.google.com/) Notebooks\n",
        "* [Anaconda](https://www.anaconda.com/) Data Science Platform\n",
        "* [Available for installation](https://www.python.org/downloads/) through the command line across operating systems\n",
        "* Installing [Python](https://www.python.org/downloads/) directly through the Command Line (varies depending on your OS)\n",
        "* There are other great Integrated Development Environments for Python, like [Spyder](spyder-ide.org) and [IPython](https://ipython.org/).\n",
        "* You can also utilize Python through IDEs like Microsoft [Visual Studio](https://visualstudio.microsoft.com/vs/features/python/) and the open-source text editor, [Atom](https://atom.io/)\n"
      ],
      "metadata": {
        "id": "SViB6eUxuuP-"
      }
    },
    {
      "cell_type": "markdown",
      "source": [
        "__________________________________________________________\n",
        "* [2] [Open Data Handbook: Glossary: Machine Readable](https://opendatahandbook.org/glossary/en/terms/machine-readable/)"
      ],
      "metadata": {
        "id": "Y1FQyz4I9GXO"
      }
    },
    {
      "cell_type": "markdown",
      "source": [
        "## Computational Thinking Approach [3]\n",
        "\n",
        "*   **Decomposition:** Break your problem down to its smallest parts​\n",
        "*   **Pattern Recognition:** What trends do you notice in data?​\n",
        "*   **Abstraction:** What's the smallest way to represent a concept or idea?\n",
        "*   **Algorithm Design:** How do you automate the process to be more effecient and effective, especially when working with large sets of data?"
      ],
      "metadata": {
        "id": "SeDcWzgIvpKz"
      }
    },
    {
      "cell_type": "markdown",
      "source": [
        "________________________________________________________________________________\n",
        "*   [3] Wing, J. M. (2006). Computational thinking. Communications of the ACM, 49(3), 33–35. https://doi.org/10.1145/1118178.1118215 "
      ],
      "metadata": {
        "id": "dkqKrigf50o1"
      }
    },
    {
      "cell_type": "markdown",
      "source": [
        "# **Getting Started**\n",
        "___________________________________________________________________\n",
        "\n",
        "In this section, we will cover:\n",
        "\n",
        "\n",
        "* Syntax and Getting Started\n",
        "* Variables and Data Types\n",
        "* Functions\n",
        "\n"
      ],
      "metadata": {
        "id": "RcRLSjvOtFr-"
      }
    },
    {
      "cell_type": "markdown",
      "source": [
        "### **Syntax and Getting Started** [4-5]"
      ],
      "metadata": {
        "id": "GmX5SZgSxTj3"
      }
    },
    {
      "cell_type": "markdown",
      "source": [
        "Let's start out with a first line of code. In the box below. Python allows the user to add annotation by typing notes after the `#`. Click inside the `code block` just below the note. There is already a command `print(\"Hello, World!\")` ready to execute. Then, select the `run button` on the left side of the `code block`."
      ],
      "metadata": {
        "id": "s5k1eU7yyGis"
      }
    },
    {
      "cell_type": "code",
      "source": [
        "# Type your code phrase in the space below in this box, and then press the run arrow on the left.\n",
        "\n",
        "print(\"Hello, World!\")"
      ],
      "metadata": {
        "id": "GWR10QB_xZuR",
        "colab": {
          "base_uri": "https://localhost:8080/"
        },
        "outputId": "51c83690-3d4d-4b42-bdc3-6bd43ea0ce86"
      },
      "execution_count": 1,
      "outputs": [
        {
          "output_type": "stream",
          "name": "stdout",
          "text": [
            "Hello, World!\n"
          ]
        }
      ]
    },
    {
      "cell_type": "markdown",
      "source": [
        "________________________________________________________________________________\n",
        "* [4] Adapted with changes from [Programming with Python: Python Fundamentals](https://swcarpentry.github.io/python-novice-inflammation/01-intro/index.html) by The Carpentries. [CC-BY-4.0](https://creativecommons.org/licenses/by/4.0/)\n",
        "* [5] Adapted with changes from [Computational Notebooks and Beginner Syntax with Python](https://github.com/ualibweb/UALIB_Workshops/blob/master/04_Python_spring_2022/01_Python_computational_notebooks_and_syntax.ipynb) by Vincent Scalfani and UA Libraries. [MIT License](https://github.com/ualibweb/UALIB_Workshops/blob/master/LICENSE)\n"
      ],
      "metadata": {
        "id": "oqKjwRU2zn54"
      }
    },
    {
      "cell_type": "markdown",
      "source": [
        "### **Using the Help() Function** [5-7]\n",
        "There are several ways to get help while using Python, and especially if you would like know more about options available for use of a particular function or method."
      ],
      "metadata": {
        "id": "i1I-vD4Xfby4"
      }
    },
    {
      "cell_type": "code",
      "metadata": {
        "id": "bj3uj3FFbpz4",
        "colab": {
          "base_uri": "https://localhost:8080/"
        },
        "outputId": "b6c3df2f-8632-4f05-a398-d277c2aa09f4"
      },
      "source": [
        "# If you know the name of the function, use the help() function \n",
        "# to display the docstring\n",
        "\n",
        "help(sorted)"
      ],
      "execution_count": 2,
      "outputs": [
        {
          "output_type": "stream",
          "name": "stdout",
          "text": [
            "Help on built-in function sorted in module builtins:\n",
            "\n",
            "sorted(iterable, /, *, key=None, reverse=False)\n",
            "    Return a new list containing all items from the iterable in ascending order.\n",
            "    \n",
            "    A custom key function can be supplied to customize the sort order, and the\n",
            "    reverse flag can be set to request the result in descending order.\n",
            "\n"
          ]
        }
      ]
    },
    {
      "cell_type": "code",
      "metadata": {
        "id": "5JeqnBMYbrid"
      },
      "source": [
        "# using a question mark will show the help in a pop-up Colab window\n",
        "\n",
        "sorted?"
      ],
      "execution_count": 3,
      "outputs": []
    },
    {
      "cell_type": "code",
      "metadata": {
        "id": "sbsnKHqJjjcI"
      },
      "source": [
        "# You may have noticed that Colab shows recommedations as you type.\n",
        "# These can be useful, especially for exploring operations of objects.\n",
        "\n",
        "a = [6,3,0,5] # this creates a list"
      ],
      "execution_count": 4,
      "outputs": []
    },
    {
      "cell_type": "code",
      "metadata": {
        "id": "ghKIDwkKbrlt",
        "colab": {
          "base_uri": "https://localhost:8080/"
        },
        "outputId": "9a000225-0754-424c-9fb7-3e50d7c534a4"
      },
      "source": [
        "# now if we type `a` followed by a period `.`, the available attributes/methods\n",
        "# will show up. We can select one we are interested in and add a ? for info\n",
        "\n",
        "a.reverse()\n",
        "a"
      ],
      "execution_count": 5,
      "outputs": [
        {
          "output_type": "execute_result",
          "data": {
            "text/plain": [
              "[5, 0, 3, 6]"
            ]
          },
          "metadata": {},
          "execution_count": 5
        }
      ]
    },
    {
      "cell_type": "markdown",
      "metadata": {
        "id": "IKX2wIq_oR6i"
      },
      "source": [
        "__________________________________________________________\n",
        "For more help information, see:\n",
        "\n",
        "* [6][Help and Documentation in IPython](https://jakevdp.github.io/PythonDataScienceHandbook/01.01-help-and-documentation.html) by Jake VanderPlas.  [CC-BY-NC-ND](https://creativecommons.org/licenses/by-nc-nd/3.0/us/legalcode).\n",
        "\n",
        "* [7] [Overview of Colaboratory Features](https://colab.research.google.com/notebooks/basic_features_overview.ipynb)\n",
        "* [5] Adapted with changes from [Computational Notebooks and Beginner Syntax with Python](https://github.com/ualibweb/UALIB_Workshops/blob/master/04_Python_spring_2022/01_Python_computational_notebooks_and_syntax.ipynb) by Vincent Scalfani and UA Libraries. [MIT License](https://github.com/ualibweb/UALIB_Workshops/blob/master/LICENSE)"
      ]
    },
    {
      "cell_type": "markdown",
      "source": [
        "### **Other Syntax Items of Note** [8-9]\n",
        "\n",
        "Python reads each line as a new line of code unless specified using indention (as a part of a `for` loop or condition statement using `if`, `elif`, or `else`, or as a part of some functions), or by using parantheses to enclose the request.\n"
      ],
      "metadata": {
        "id": "8xgrsQaXX6CI"
      }
    },
    {
      "cell_type": "code",
      "source": [
        "# For example, do some basic math using Python\n",
        "# There are enough numbers in our equation that\n",
        "# it may help to visually split the line.\n",
        "# We will do this with ().\n",
        "\n",
        "a1 = (2+4+8+16+32+64+\n",
        "    128+256)\n",
        "a1"
      ],
      "metadata": {
        "id": "iAT3AtXTYu1h",
        "colab": {
          "base_uri": "https://localhost:8080/"
        },
        "outputId": "47cd9fa3-c962-4f13-f750-474f52a159d8"
      },
      "execution_count": 6,
      "outputs": [
        {
          "output_type": "execute_result",
          "data": {
            "text/plain": [
              "510"
            ]
          },
          "metadata": {},
          "execution_count": 6
        }
      ]
    },
    {
      "cell_type": "code",
      "source": [
        "# We can look at indention through a quick For Loop\n",
        "# The indentation after the first line of the For Loop\n",
        "# Let's python know that each line is a part of the loop\n",
        "# We will talk more about loops in the lessons below\n",
        "\n",
        "t1 = [\"AAPL\", \"MSFT\", \"BABA\", \"GOOGL\"]\n",
        "t2 = [\"Apple\", \"Microsoft\", \"Alibaba\", \"Alphabet\"]\n",
        "\n",
        "for x1, y1 in zip(t1, t2):\n",
        "    print(\"The stock symbol for \" + x1)\n",
        "    print(\"is \" + y1)"
      ],
      "metadata": {
        "id": "MuV03h-cZaTI",
        "colab": {
          "base_uri": "https://localhost:8080/"
        },
        "outputId": "2e8476ab-afc0-4481-e912-b13185863172"
      },
      "execution_count": 7,
      "outputs": [
        {
          "output_type": "stream",
          "name": "stdout",
          "text": [
            "The stock symbol for AAPL\n",
            "is Apple\n",
            "The stock symbol for MSFT\n",
            "is Microsoft\n",
            "The stock symbol for BABA\n",
            "is Alibaba\n",
            "The stock symbol for GOOGL\n",
            "is Alphabet\n"
          ]
        }
      ]
    },
    {
      "cell_type": "markdown",
      "source": [
        "\n",
        "* [8] [Looping through multiple lists—Python cookbook by O'Reilly](https://www.oreilly.com/library/view/python-cookbook/0596001673/ch01s15.html)\n",
        "* [9] [Python Docs Glossary, Built-in Functions: Zip](https://docs.python.org/3/library/functions.html#zip)"
      ],
      "metadata": {
        "id": "bEqgN5_Dl4q8"
      }
    },
    {
      "cell_type": "markdown",
      "source": [
        "### **Data Types and Variables** [4-5]"
      ],
      "metadata": {
        "id": "K1RsAbgdxhRO"
      }
    },
    {
      "cell_type": "markdown",
      "source": [
        "#### Data Types\n",
        "*   **Strings**\n",
        "*   **Integers**\n",
        "*   **Floating Point Numbers**\n",
        "\n",
        "**Strings** can be a combination of letters, characters, and numbers, and are denoted by using single `'` or double `\"` quotes. For example, a person's name may be represented like the following example:\n",
        "\n",
        "```python\n",
        "author_name = \"Audre Lorde\"\n",
        "```\n",
        "\n",
        "**Integers** are whole numbers. For example:\n",
        "\n",
        "```python\n",
        "universal_answer = 42\n",
        "```\n",
        "**Floating Point Numbers** include decimal points, as in the following example.\n",
        "\n",
        "```python\n",
        "universal_answer = 42.0\n",
        "```\n",
        "\n",
        "*Note that numbers do not need quotation marks around then, unless you would like them to be interpreted as strings.*"
      ],
      "metadata": {
        "id": "WyZQRavU2yOS"
      }
    },
    {
      "cell_type": "markdown",
      "source": [
        "#### Variables\n",
        "Python makes variable assignments using the `=`, as used in the examples immediately above this text block."
      ],
      "metadata": {
        "id": "wkpXhECt9MGf"
      }
    },
    {
      "cell_type": "markdown",
      "source": [
        "##### Simple Variables"
      ],
      "metadata": {
        "id": "UPIQA_wS9Tu7"
      }
    },
    {
      "cell_type": "markdown",
      "source": [
        "Simple variables, for our purpose are variables that only contain one item for their assignment. For example, in the code block below, let's assign a the number `11` to the variable `workshop_start_time`, and print the variable, using the print function. Type the following, then select run:\n",
        "```python\n",
        "workshop_start_time = 11\n",
        "print(workshop_start_time)\n",
        "```"
      ],
      "metadata": {
        "id": "etOmOvUpLICm"
      }
    },
    {
      "cell_type": "code",
      "source": [
        "# Enter code in the line below:\n",
        "workshop_start_time = 11"
      ],
      "metadata": {
        "id": "gX-487L-xdaW"
      },
      "execution_count": 8,
      "outputs": []
    },
    {
      "cell_type": "code",
      "source": [
        "print(workshop_start_time)"
      ],
      "metadata": {
        "id": "fqWXSDnrDqqP",
        "colab": {
          "base_uri": "https://localhost:8080/"
        },
        "outputId": "16f14c77-6b4e-4116-beac-b6f886dc71b9"
      },
      "execution_count": 9,
      "outputs": [
        {
          "output_type": "stream",
          "name": "stdout",
          "text": [
            "11\n"
          ]
        }
      ]
    },
    {
      "cell_type": "markdown",
      "source": [
        "You can see the data type by using the `type()` function with a variable in the argument `()`."
      ],
      "metadata": {
        "id": "x3v9vUyS26B-"
      }
    },
    {
      "cell_type": "code",
      "source": [
        "# try out the type function on the line below, and select run\n",
        "type(workshop_start_time)"
      ],
      "metadata": {
        "id": "GQ_AedkmltgN",
        "colab": {
          "base_uri": "https://localhost:8080/"
        },
        "outputId": "ba93ed29-b330-4d09-b931-66a04ca1d830"
      },
      "execution_count": 10,
      "outputs": [
        {
          "output_type": "execute_result",
          "data": {
            "text/plain": [
              "int"
            ]
          },
          "metadata": {},
          "execution_count": 10
        }
      ]
    },
    {
      "cell_type": "markdown",
      "source": [
        "There are are variety of methods available for working with strings, and these are available through the `help(str)` function."
      ],
      "metadata": {
        "id": "au6iSGRjl6m9"
      }
    },
    {
      "cell_type": "code",
      "source": [
        "# let's get a list of methods for working with strings\n",
        "help(str)"
      ],
      "metadata": {
        "id": "2w4n98VXl6Gm",
        "colab": {
          "base_uri": "https://localhost:8080/"
        },
        "outputId": "fda04364-73ba-4285-fb7d-7588ee5e2d03"
      },
      "execution_count": 11,
      "outputs": [
        {
          "output_type": "stream",
          "name": "stdout",
          "text": [
            "Help on class str in module builtins:\n",
            "\n",
            "class str(object)\n",
            " |  str(object='') -> str\n",
            " |  str(bytes_or_buffer[, encoding[, errors]]) -> str\n",
            " |  \n",
            " |  Create a new string object from the given object. If encoding or\n",
            " |  errors is specified, then the object must expose a data buffer\n",
            " |  that will be decoded using the given encoding and error handler.\n",
            " |  Otherwise, returns the result of object.__str__() (if defined)\n",
            " |  or repr(object).\n",
            " |  encoding defaults to sys.getdefaultencoding().\n",
            " |  errors defaults to 'strict'.\n",
            " |  \n",
            " |  Methods defined here:\n",
            " |  \n",
            " |  __add__(self, value, /)\n",
            " |      Return self+value.\n",
            " |  \n",
            " |  __contains__(self, key, /)\n",
            " |      Return key in self.\n",
            " |  \n",
            " |  __eq__(self, value, /)\n",
            " |      Return self==value.\n",
            " |  \n",
            " |  __format__(self, format_spec, /)\n",
            " |      Return a formatted version of the string as described by format_spec.\n",
            " |  \n",
            " |  __ge__(self, value, /)\n",
            " |      Return self>=value.\n",
            " |  \n",
            " |  __getattribute__(self, name, /)\n",
            " |      Return getattr(self, name).\n",
            " |  \n",
            " |  __getitem__(self, key, /)\n",
            " |      Return self[key].\n",
            " |  \n",
            " |  __getnewargs__(...)\n",
            " |  \n",
            " |  __gt__(self, value, /)\n",
            " |      Return self>value.\n",
            " |  \n",
            " |  __hash__(self, /)\n",
            " |      Return hash(self).\n",
            " |  \n",
            " |  __iter__(self, /)\n",
            " |      Implement iter(self).\n",
            " |  \n",
            " |  __le__(self, value, /)\n",
            " |      Return self<=value.\n",
            " |  \n",
            " |  __len__(self, /)\n",
            " |      Return len(self).\n",
            " |  \n",
            " |  __lt__(self, value, /)\n",
            " |      Return self<value.\n",
            " |  \n",
            " |  __mod__(self, value, /)\n",
            " |      Return self%value.\n",
            " |  \n",
            " |  __mul__(self, value, /)\n",
            " |      Return self*value.\n",
            " |  \n",
            " |  __ne__(self, value, /)\n",
            " |      Return self!=value.\n",
            " |  \n",
            " |  __repr__(self, /)\n",
            " |      Return repr(self).\n",
            " |  \n",
            " |  __rmod__(self, value, /)\n",
            " |      Return value%self.\n",
            " |  \n",
            " |  __rmul__(self, value, /)\n",
            " |      Return value*self.\n",
            " |  \n",
            " |  __sizeof__(self, /)\n",
            " |      Return the size of the string in memory, in bytes.\n",
            " |  \n",
            " |  __str__(self, /)\n",
            " |      Return str(self).\n",
            " |  \n",
            " |  capitalize(self, /)\n",
            " |      Return a capitalized version of the string.\n",
            " |      \n",
            " |      More specifically, make the first character have upper case and the rest lower\n",
            " |      case.\n",
            " |  \n",
            " |  casefold(self, /)\n",
            " |      Return a version of the string suitable for caseless comparisons.\n",
            " |  \n",
            " |  center(self, width, fillchar=' ', /)\n",
            " |      Return a centered string of length width.\n",
            " |      \n",
            " |      Padding is done using the specified fill character (default is a space).\n",
            " |  \n",
            " |  count(...)\n",
            " |      S.count(sub[, start[, end]]) -> int\n",
            " |      \n",
            " |      Return the number of non-overlapping occurrences of substring sub in\n",
            " |      string S[start:end].  Optional arguments start and end are\n",
            " |      interpreted as in slice notation.\n",
            " |  \n",
            " |  encode(self, /, encoding='utf-8', errors='strict')\n",
            " |      Encode the string using the codec registered for encoding.\n",
            " |      \n",
            " |      encoding\n",
            " |        The encoding in which to encode the string.\n",
            " |      errors\n",
            " |        The error handling scheme to use for encoding errors.\n",
            " |        The default is 'strict' meaning that encoding errors raise a\n",
            " |        UnicodeEncodeError.  Other possible values are 'ignore', 'replace' and\n",
            " |        'xmlcharrefreplace' as well as any other name registered with\n",
            " |        codecs.register_error that can handle UnicodeEncodeErrors.\n",
            " |  \n",
            " |  endswith(...)\n",
            " |      S.endswith(suffix[, start[, end]]) -> bool\n",
            " |      \n",
            " |      Return True if S ends with the specified suffix, False otherwise.\n",
            " |      With optional start, test S beginning at that position.\n",
            " |      With optional end, stop comparing S at that position.\n",
            " |      suffix can also be a tuple of strings to try.\n",
            " |  \n",
            " |  expandtabs(self, /, tabsize=8)\n",
            " |      Return a copy where all tab characters are expanded using spaces.\n",
            " |      \n",
            " |      If tabsize is not given, a tab size of 8 characters is assumed.\n",
            " |  \n",
            " |  find(...)\n",
            " |      S.find(sub[, start[, end]]) -> int\n",
            " |      \n",
            " |      Return the lowest index in S where substring sub is found,\n",
            " |      such that sub is contained within S[start:end].  Optional\n",
            " |      arguments start and end are interpreted as in slice notation.\n",
            " |      \n",
            " |      Return -1 on failure.\n",
            " |  \n",
            " |  format(...)\n",
            " |      S.format(*args, **kwargs) -> str\n",
            " |      \n",
            " |      Return a formatted version of S, using substitutions from args and kwargs.\n",
            " |      The substitutions are identified by braces ('{' and '}').\n",
            " |  \n",
            " |  format_map(...)\n",
            " |      S.format_map(mapping) -> str\n",
            " |      \n",
            " |      Return a formatted version of S, using substitutions from mapping.\n",
            " |      The substitutions are identified by braces ('{' and '}').\n",
            " |  \n",
            " |  index(...)\n",
            " |      S.index(sub[, start[, end]]) -> int\n",
            " |      \n",
            " |      Return the lowest index in S where substring sub is found, \n",
            " |      such that sub is contained within S[start:end].  Optional\n",
            " |      arguments start and end are interpreted as in slice notation.\n",
            " |      \n",
            " |      Raises ValueError when the substring is not found.\n",
            " |  \n",
            " |  isalnum(self, /)\n",
            " |      Return True if the string is an alpha-numeric string, False otherwise.\n",
            " |      \n",
            " |      A string is alpha-numeric if all characters in the string are alpha-numeric and\n",
            " |      there is at least one character in the string.\n",
            " |  \n",
            " |  isalpha(self, /)\n",
            " |      Return True if the string is an alphabetic string, False otherwise.\n",
            " |      \n",
            " |      A string is alphabetic if all characters in the string are alphabetic and there\n",
            " |      is at least one character in the string.\n",
            " |  \n",
            " |  isascii(self, /)\n",
            " |      Return True if all characters in the string are ASCII, False otherwise.\n",
            " |      \n",
            " |      ASCII characters have code points in the range U+0000-U+007F.\n",
            " |      Empty string is ASCII too.\n",
            " |  \n",
            " |  isdecimal(self, /)\n",
            " |      Return True if the string is a decimal string, False otherwise.\n",
            " |      \n",
            " |      A string is a decimal string if all characters in the string are decimal and\n",
            " |      there is at least one character in the string.\n",
            " |  \n",
            " |  isdigit(self, /)\n",
            " |      Return True if the string is a digit string, False otherwise.\n",
            " |      \n",
            " |      A string is a digit string if all characters in the string are digits and there\n",
            " |      is at least one character in the string.\n",
            " |  \n",
            " |  isidentifier(self, /)\n",
            " |      Return True if the string is a valid Python identifier, False otherwise.\n",
            " |      \n",
            " |      Use keyword.iskeyword() to test for reserved identifiers such as \"def\" and\n",
            " |      \"class\".\n",
            " |  \n",
            " |  islower(self, /)\n",
            " |      Return True if the string is a lowercase string, False otherwise.\n",
            " |      \n",
            " |      A string is lowercase if all cased characters in the string are lowercase and\n",
            " |      there is at least one cased character in the string.\n",
            " |  \n",
            " |  isnumeric(self, /)\n",
            " |      Return True if the string is a numeric string, False otherwise.\n",
            " |      \n",
            " |      A string is numeric if all characters in the string are numeric and there is at\n",
            " |      least one character in the string.\n",
            " |  \n",
            " |  isprintable(self, /)\n",
            " |      Return True if the string is printable, False otherwise.\n",
            " |      \n",
            " |      A string is printable if all of its characters are considered printable in\n",
            " |      repr() or if it is empty.\n",
            " |  \n",
            " |  isspace(self, /)\n",
            " |      Return True if the string is a whitespace string, False otherwise.\n",
            " |      \n",
            " |      A string is whitespace if all characters in the string are whitespace and there\n",
            " |      is at least one character in the string.\n",
            " |  \n",
            " |  istitle(self, /)\n",
            " |      Return True if the string is a title-cased string, False otherwise.\n",
            " |      \n",
            " |      In a title-cased string, upper- and title-case characters may only\n",
            " |      follow uncased characters and lowercase characters only cased ones.\n",
            " |  \n",
            " |  isupper(self, /)\n",
            " |      Return True if the string is an uppercase string, False otherwise.\n",
            " |      \n",
            " |      A string is uppercase if all cased characters in the string are uppercase and\n",
            " |      there is at least one cased character in the string.\n",
            " |  \n",
            " |  join(self, iterable, /)\n",
            " |      Concatenate any number of strings.\n",
            " |      \n",
            " |      The string whose method is called is inserted in between each given string.\n",
            " |      The result is returned as a new string.\n",
            " |      \n",
            " |      Example: '.'.join(['ab', 'pq', 'rs']) -> 'ab.pq.rs'\n",
            " |  \n",
            " |  ljust(self, width, fillchar=' ', /)\n",
            " |      Return a left-justified string of length width.\n",
            " |      \n",
            " |      Padding is done using the specified fill character (default is a space).\n",
            " |  \n",
            " |  lower(self, /)\n",
            " |      Return a copy of the string converted to lowercase.\n",
            " |  \n",
            " |  lstrip(self, chars=None, /)\n",
            " |      Return a copy of the string with leading whitespace removed.\n",
            " |      \n",
            " |      If chars is given and not None, remove characters in chars instead.\n",
            " |  \n",
            " |  partition(self, sep, /)\n",
            " |      Partition the string into three parts using the given separator.\n",
            " |      \n",
            " |      This will search for the separator in the string.  If the separator is found,\n",
            " |      returns a 3-tuple containing the part before the separator, the separator\n",
            " |      itself, and the part after it.\n",
            " |      \n",
            " |      If the separator is not found, returns a 3-tuple containing the original string\n",
            " |      and two empty strings.\n",
            " |  \n",
            " |  replace(self, old, new, count=-1, /)\n",
            " |      Return a copy with all occurrences of substring old replaced by new.\n",
            " |      \n",
            " |        count\n",
            " |          Maximum number of occurrences to replace.\n",
            " |          -1 (the default value) means replace all occurrences.\n",
            " |      \n",
            " |      If the optional argument count is given, only the first count occurrences are\n",
            " |      replaced.\n",
            " |  \n",
            " |  rfind(...)\n",
            " |      S.rfind(sub[, start[, end]]) -> int\n",
            " |      \n",
            " |      Return the highest index in S where substring sub is found,\n",
            " |      such that sub is contained within S[start:end].  Optional\n",
            " |      arguments start and end are interpreted as in slice notation.\n",
            " |      \n",
            " |      Return -1 on failure.\n",
            " |  \n",
            " |  rindex(...)\n",
            " |      S.rindex(sub[, start[, end]]) -> int\n",
            " |      \n",
            " |      Return the highest index in S where substring sub is found,\n",
            " |      such that sub is contained within S[start:end].  Optional\n",
            " |      arguments start and end are interpreted as in slice notation.\n",
            " |      \n",
            " |      Raises ValueError when the substring is not found.\n",
            " |  \n",
            " |  rjust(self, width, fillchar=' ', /)\n",
            " |      Return a right-justified string of length width.\n",
            " |      \n",
            " |      Padding is done using the specified fill character (default is a space).\n",
            " |  \n",
            " |  rpartition(self, sep, /)\n",
            " |      Partition the string into three parts using the given separator.\n",
            " |      \n",
            " |      This will search for the separator in the string, starting at the end. If\n",
            " |      the separator is found, returns a 3-tuple containing the part before the\n",
            " |      separator, the separator itself, and the part after it.\n",
            " |      \n",
            " |      If the separator is not found, returns a 3-tuple containing two empty strings\n",
            " |      and the original string.\n",
            " |  \n",
            " |  rsplit(self, /, sep=None, maxsplit=-1)\n",
            " |      Return a list of the words in the string, using sep as the delimiter string.\n",
            " |      \n",
            " |        sep\n",
            " |          The delimiter according which to split the string.\n",
            " |          None (the default value) means split according to any whitespace,\n",
            " |          and discard empty strings from the result.\n",
            " |        maxsplit\n",
            " |          Maximum number of splits to do.\n",
            " |          -1 (the default value) means no limit.\n",
            " |      \n",
            " |      Splits are done starting at the end of the string and working to the front.\n",
            " |  \n",
            " |  rstrip(self, chars=None, /)\n",
            " |      Return a copy of the string with trailing whitespace removed.\n",
            " |      \n",
            " |      If chars is given and not None, remove characters in chars instead.\n",
            " |  \n",
            " |  split(self, /, sep=None, maxsplit=-1)\n",
            " |      Return a list of the words in the string, using sep as the delimiter string.\n",
            " |      \n",
            " |      sep\n",
            " |        The delimiter according which to split the string.\n",
            " |        None (the default value) means split according to any whitespace,\n",
            " |        and discard empty strings from the result.\n",
            " |      maxsplit\n",
            " |        Maximum number of splits to do.\n",
            " |        -1 (the default value) means no limit.\n",
            " |  \n",
            " |  splitlines(self, /, keepends=False)\n",
            " |      Return a list of the lines in the string, breaking at line boundaries.\n",
            " |      \n",
            " |      Line breaks are not included in the resulting list unless keepends is given and\n",
            " |      true.\n",
            " |  \n",
            " |  startswith(...)\n",
            " |      S.startswith(prefix[, start[, end]]) -> bool\n",
            " |      \n",
            " |      Return True if S starts with the specified prefix, False otherwise.\n",
            " |      With optional start, test S beginning at that position.\n",
            " |      With optional end, stop comparing S at that position.\n",
            " |      prefix can also be a tuple of strings to try.\n",
            " |  \n",
            " |  strip(self, chars=None, /)\n",
            " |      Return a copy of the string with leading and trailing whitespace removed.\n",
            " |      \n",
            " |      If chars is given and not None, remove characters in chars instead.\n",
            " |  \n",
            " |  swapcase(self, /)\n",
            " |      Convert uppercase characters to lowercase and lowercase characters to uppercase.\n",
            " |  \n",
            " |  title(self, /)\n",
            " |      Return a version of the string where each word is titlecased.\n",
            " |      \n",
            " |      More specifically, words start with uppercased characters and all remaining\n",
            " |      cased characters have lower case.\n",
            " |  \n",
            " |  translate(self, table, /)\n",
            " |      Replace each character in the string using the given translation table.\n",
            " |      \n",
            " |        table\n",
            " |          Translation table, which must be a mapping of Unicode ordinals to\n",
            " |          Unicode ordinals, strings, or None.\n",
            " |      \n",
            " |      The table must implement lookup/indexing via __getitem__, for instance a\n",
            " |      dictionary or list.  If this operation raises LookupError, the character is\n",
            " |      left untouched.  Characters mapped to None are deleted.\n",
            " |  \n",
            " |  upper(self, /)\n",
            " |      Return a copy of the string converted to uppercase.\n",
            " |  \n",
            " |  zfill(self, width, /)\n",
            " |      Pad a numeric string with zeros on the left, to fill a field of the given width.\n",
            " |      \n",
            " |      The string is never truncated.\n",
            " |  \n",
            " |  ----------------------------------------------------------------------\n",
            " |  Static methods defined here:\n",
            " |  \n",
            " |  __new__(*args, **kwargs) from builtins.type\n",
            " |      Create and return a new object.  See help(type) for accurate signature.\n",
            " |  \n",
            " |  maketrans(x, y=None, z=None, /)\n",
            " |      Return a translation table usable for str.translate().\n",
            " |      \n",
            " |      If there is only one argument, it must be a dictionary mapping Unicode\n",
            " |      ordinals (integers) or characters to Unicode ordinals, strings or None.\n",
            " |      Character keys will be then converted to ordinals.\n",
            " |      If there are two arguments, they must be strings of equal length, and\n",
            " |      in the resulting dictionary, each character in x will be mapped to the\n",
            " |      character at the same position in y. If there is a third argument, it\n",
            " |      must be a string, whose characters will be mapped to None in the result.\n",
            "\n"
          ]
        }
      ]
    },
    {
      "cell_type": "code",
      "source": [
        "# Single and double quotation marks work for strings\n",
        "first_line = \"It was a dark and stormy night.\""
      ],
      "metadata": {
        "id": "3ZhlTxnkpuDg"
      },
      "execution_count": 12,
      "outputs": []
    },
    {
      "cell_type": "code",
      "source": [
        "# We can use the title method to change the case of the string\n",
        "first_line.title()"
      ],
      "metadata": {
        "id": "zBRmLQY-rVan",
        "colab": {
          "base_uri": "https://localhost:8080/",
          "height": 35
        },
        "outputId": "4048ec84-b916-460b-d291-e1e514887dc7"
      },
      "execution_count": 13,
      "outputs": [
        {
          "output_type": "execute_result",
          "data": {
            "text/plain": [
              "'It Was A Dark And Stormy Night.'"
            ],
            "application/vnd.google.colaboratory.intrinsic+json": {
              "type": "string"
            }
          },
          "metadata": {},
          "execution_count": 13
        }
      ]
    },
    {
      "cell_type": "markdown",
      "source": [
        "##### Compound Variables"
      ],
      "metadata": {
        "id": "VZGJT7vZ9XNs"
      }
    },
    {
      "cell_type": "markdown",
      "source": [
        "You can also assign a list of values to a variable. Lists can contain integers, float point numbes, strings, and a combination of all of these types."
      ],
      "metadata": {
        "id": "BYPhJcHCQL9E"
      }
    },
    {
      "cell_type": "code",
      "source": [
        "# this is an example of a list with integers\n",
        "list_1 = [2, 3, 5, 7, 11] # square brackets with values separated by commas denote a list\n",
        "list_1"
      ],
      "metadata": {
        "id": "2JshS10QQK-q",
        "colab": {
          "base_uri": "https://localhost:8080/"
        },
        "outputId": "dffbee72-4266-4687-f3c2-ce9d6ba5d618"
      },
      "execution_count": 14,
      "outputs": [
        {
          "output_type": "execute_result",
          "data": {
            "text/plain": [
              "[2, 3, 5, 7, 11]"
            ]
          },
          "metadata": {},
          "execution_count": 14
        }
      ]
    },
    {
      "cell_type": "code",
      "source": [
        "# You can build a list with strings as well\n",
        "\n",
        "tech_symbols = [\"AAPL\", \"MSFT\", \"BABA\", \"GOOGL\"]\n",
        "tech_symbols"
      ],
      "metadata": {
        "id": "UkAXAeKvsl1U",
        "colab": {
          "base_uri": "https://localhost:8080/"
        },
        "outputId": "eeb79ac8-72c2-4af6-a21d-abe218667df1"
      },
      "execution_count": 15,
      "outputs": [
        {
          "output_type": "execute_result",
          "data": {
            "text/plain": [
              "['AAPL', 'MSFT', 'BABA', 'GOOGL']"
            ]
          },
          "metadata": {},
          "execution_count": 15
        }
      ]
    },
    {
      "cell_type": "code",
      "source": [
        "# Python allows for indexing of lists as well\n",
        "# The first index position in Python is 0\n",
        "# Let's pull the item in the first position in our list\n",
        "tech_symbols[0]"
      ],
      "metadata": {
        "id": "WryedlpYuKpf",
        "colab": {
          "base_uri": "https://localhost:8080/",
          "height": 35
        },
        "outputId": "1a4243db-14b4-4ee2-df5a-a32193899b6a"
      },
      "execution_count": 16,
      "outputs": [
        {
          "output_type": "execute_result",
          "data": {
            "text/plain": [
              "'AAPL'"
            ],
            "application/vnd.google.colaboratory.intrinsic+json": {
              "type": "string"
            }
          },
          "metadata": {},
          "execution_count": 16
        }
      ]
    },
    {
      "cell_type": "code",
      "source": [
        "# Let's pull a slice of our list, placing a : between the first and list item in the slice\n",
        "tech_symbols[0:3]"
      ],
      "metadata": {
        "id": "g8YdOwBXvfPN",
        "colab": {
          "base_uri": "https://localhost:8080/"
        },
        "outputId": "e0b3ef03-d439-42de-a49c-3b9e10432e54"
      },
      "execution_count": 17,
      "outputs": [
        {
          "output_type": "execute_result",
          "data": {
            "text/plain": [
              "['AAPL', 'MSFT', 'BABA']"
            ]
          },
          "metadata": {},
          "execution_count": 17
        }
      ]
    },
    {
      "cell_type": "markdown",
      "source": [
        "Note that position `1` is the second position."
      ],
      "metadata": {
        "id": "jFxEXIxAwDCW"
      }
    },
    {
      "cell_type": "markdown",
      "metadata": {
        "id": "pmgrJUMBU1Hr"
      },
      "source": [
        "There are other built in Python types including complex, boolean, and None. See the Python documention for [Built-in Types](https://docs.python.org/3/library/stdtypes.html)."
      ]
    },
    {
      "cell_type": "markdown",
      "source": [
        "________________________________________________________________________________\n",
        "* [4] Adapted with changes from [Programming with Python: Python Fundamentals](https://swcarpentry.github.io/python-novice-inflammation/01-intro/index.html) by The Carpentries. [CC-BY-4.0](https://creativecommons.org/licenses/by/4.0/)\n",
        "* [5] Adapted with changes from [Computational Notebooks and Beginner Syntax with Python](https://github.com/ualibweb/UALIB_Workshops/blob/master/04_Python_spring_2022/01_Python_computational_notebooks_and_syntax.ipynb) by Vincent Scalfani and UA Libraries. [MIT License](https://github.com/ualibweb/UALIB_Workshops/blob/master/LICENSE)"
      ],
      "metadata": {
        "id": "_pca1rd7SkVL"
      }
    },
    {
      "cell_type": "markdown",
      "source": [
        "## **Functions** [6]\n",
        "\n",
        "Functions return values in Python. They are called with parentheses. You will often see what is placed in the parantheses called both and argument and a paramenter. We've used a few functions already in this workshop, like `print()` and `help()`."
      ],
      "metadata": {
        "id": "8u29bcKn9hNn"
      }
    },
    {
      "cell_type": "code",
      "source": [
        "# Let's try the len function to get the length of our list in first_lines\n",
        "len(tech_symbols)"
      ],
      "metadata": {
        "id": "m0W_LYyYyNWx",
        "colab": {
          "base_uri": "https://localhost:8080/"
        },
        "outputId": "8e372a12-71ea-4716-cae6-8c4002a084ca"
      },
      "execution_count": 18,
      "outputs": [
        {
          "output_type": "execute_result",
          "data": {
            "text/plain": [
              "4"
            ]
          },
          "metadata": {},
          "execution_count": 18
        }
      ]
    },
    {
      "cell_type": "code",
      "source": [
        "# Let's remove one of the items from our list\n",
        "tech_symbols.remove(\"AAPL\")\n",
        "tech_symbols"
      ],
      "metadata": {
        "id": "H2_P3Sj1z431",
        "colab": {
          "base_uri": "https://localhost:8080/"
        },
        "outputId": "6f5e8a6a-3f9a-4a4d-8e84-14bca0c51c54"
      },
      "execution_count": 19,
      "outputs": [
        {
          "output_type": "execute_result",
          "data": {
            "text/plain": [
              "['MSFT', 'BABA', 'GOOGL']"
            ]
          },
          "metadata": {},
          "execution_count": 19
        }
      ]
    },
    {
      "cell_type": "code",
      "source": [
        "# No argument is needed when a function should be evaluated\n",
        "# We can re-order the list using the reverse function\n",
        "tech_symbols.reverse()\n",
        "tech_symbols"
      ],
      "metadata": {
        "id": "roanmonczT3k",
        "colab": {
          "base_uri": "https://localhost:8080/"
        },
        "outputId": "1d295013-1751-4e51-dcc6-36f6c9fefd6f"
      },
      "execution_count": 20,
      "outputs": [
        {
          "output_type": "execute_result",
          "data": {
            "text/plain": [
              "['GOOGL', 'BABA', 'MSFT']"
            ]
          },
          "metadata": {},
          "execution_count": 20
        }
      ]
    },
    {
      "cell_type": "markdown",
      "source": [
        "You can even define your own functions using the `def` function. This can be helpful to make repetitive tasks more efficient. Custom functions follow the syntax below:\n",
        "```python\n",
        "def function_name:\n",
        "  \"\"\"dictionary definitions go here, and are visible when using the help function\"\"\"\n",
        "  do something\n",
        "  ```\n",
        "Note that the `:` on the end of the first line, and the idention on any subsequent lines is required. When designing your own functions, consider tasks you are regularly doing that could be made more efficient."
      ],
      "metadata": {
        "id": "sjNmngh6bPtZ"
      }
    },
    {
      "cell_type": "code",
      "source": [
        "# Let's make a function to add the UA Libraries authenticator link to a URL\n",
        "# This helps to ensure access to materials when users are off campus\n",
        "# we can start with creating a variable for the authenticator link\n",
        "authenticator_link = \"http://libdata.lib.ua.edu/login?url=\""
      ],
      "metadata": {
        "id": "36XO0NcNIK7t"
      },
      "execution_count": 21,
      "outputs": []
    },
    {
      "cell_type": "code",
      "source": [
        "# Now let's define the function\n",
        "# Remember to include the dictionary definition nested in three double quotes\n",
        "def authenticate_url(url):\n",
        "  \"\"\"Attaches the UA Libraries authenticator link to a URL\"\"\"\n",
        "  print(authenticator_link + url)"
      ],
      "metadata": {
        "id": "x92SoWSC2hGV"
      },
      "execution_count": 22,
      "outputs": []
    },
    {
      "cell_type": "code",
      "source": [
        "# Now let's try it out with a the MLA database link\n",
        "m1 = \"https://search.ebscohost.com/login.aspx?authtype=ip,uid&profile=ehost&defaultdb=mlf\"\n",
        "authenticate_url(m1)"
      ],
      "metadata": {
        "id": "64vlqX9N3ai6",
        "colab": {
          "base_uri": "https://localhost:8080/"
        },
        "outputId": "55c854e4-ddbb-4d86-f804-1f5f4f67106c"
      },
      "execution_count": 23,
      "outputs": [
        {
          "output_type": "stream",
          "name": "stdout",
          "text": [
            "http://libdata.lib.ua.edu/login?url=https://search.ebscohost.com/login.aspx?authtype=ip,uid&profile=ehost&defaultdb=mlf\n"
          ]
        }
      ]
    },
    {
      "cell_type": "code",
      "source": [
        "# Let's try the help with this new function\n",
        "help(authenticate_url)"
      ],
      "metadata": {
        "id": "fOK54FnC5fm4",
        "colab": {
          "base_uri": "https://localhost:8080/"
        },
        "outputId": "48e8a8b9-bea7-42b3-a231-4641180d8391"
      },
      "execution_count": 24,
      "outputs": [
        {
          "output_type": "stream",
          "name": "stdout",
          "text": [
            "Help on function authenticate_url in module __main__:\n",
            "\n",
            "authenticate_url(url)\n",
            "    Attaches the UA Libraries authenticator link to a URL\n",
            "\n"
          ]
        }
      ]
    },
    {
      "cell_type": "markdown",
      "source": [
        "________________________________________________________________________________\n",
        "* [6] [Python Docs Glossary: Functions](https://docs.python.org/3/glossary.html#term-function)"
      ],
      "metadata": {
        "id": "yVJiK5D5ye3a"
      }
    },
    {
      "cell_type": "markdown",
      "source": [
        "## **Libraries**\n",
        "\n",
        "Libraries contain specialized toolset for working with particular types of data, or doing speacilized data analysis. You can call a library in Python by using the `import` function. You will see below there are a couple of examples with the word `as` as a part of the request. Python allows you to create aliases for libraries, so you can shorten the name of the library when you are calling for tools from it in the future. Here are a few examples of libraries and their common aliases below:"
      ],
      "metadata": {
        "id": "Wdgnn0799upr"
      }
    },
    {
      "cell_type": "markdown",
      "source": [
        "\n",
        "\n",
        "1. [NumPy](https://numpy.org/doc/stable/user/absolute_beginners.html): NumPy is an extended set of tools for working with scientific data. It is often used with Pandas and MatPlotLib.\n",
        "```python\n",
        "import numpy as np\n",
        "```\n",
        "2. [Pandas](https://pandas.pydata.org/docs/getting_started/index.html): Pandas is a library devovted to data analysis using its hallmark DataFrame. \n",
        "```python\n",
        "import pandas as pd\n",
        "```\n",
        "3. [MatPlotLib](https://matplotlib.org/stable/users/getting_started/): MatPlotLib is a tool great for visualizing data output.\n",
        "```python\n",
        "import matplotlib as plt\n",
        "```\n",
        "4. [OS](https://docs.python.org/3/library/os.html) Provides some operation system functionality (like loading and accessing files) in Python.\n",
        "```python\n",
        "import os\n",
        "```\n",
        "\n"
      ],
      "metadata": {
        "id": "GMYP3LVWQN0T"
      }
    },
    {
      "cell_type": "markdown",
      "source": [
        "# **Uploading and Analyzing a Dataset**\n",
        "___________________________________________________________________"
      ],
      "metadata": {
        "id": "o5QzXh99eL2C"
      }
    },
    {
      "cell_type": "markdown",
      "source": [
        "## **Uploading a dataset  from a URL** [10-11]\n",
        "\n",
        "Let's use a few of the libraries we've talked about to look at a dataset created by Business Librarian, Mark Siciliano. We will access this dataset through the [UA Libraries Institutional Repository](https://ir.ua.edu/). The dataset we will use is called [Fiscal 2020 CEO Pay Ratios](http://ir.ua.edu/handle/123456789/8085)."
      ],
      "metadata": {
        "id": "rKfwJmFDc_nb"
      }
    },
    {
      "cell_type": "code",
      "source": [
        "# import libraries for data analysis and plotting\n",
        "\n",
        "import numpy as np \n",
        "import pandas as pd \n",
        "import matplotlib.pyplot as plot\n",
        "import os"
      ],
      "metadata": {
        "id": "dKM2A0hPbKvo"
      },
      "execution_count": 25,
      "outputs": []
    },
    {
      "cell_type": "code",
      "source": [
        "# uses a Bash Shell command to see your current location in the file directory\n",
        "\n",
        "%pwd"
      ],
      "metadata": {
        "id": "8wsstMKITzTK",
        "colab": {
          "base_uri": "https://localhost:8080/",
          "height": 35
        },
        "outputId": "eb95dac3-2036-47a2-fc35-5f237e87cc65"
      },
      "execution_count": 26,
      "outputs": [
        {
          "output_type": "execute_result",
          "data": {
            "text/plain": [
              "'/content'"
            ],
            "application/vnd.google.colaboratory.intrinsic+json": {
              "type": "string"
            }
          },
          "metadata": {},
          "execution_count": 26
        }
      ]
    },
    {
      "cell_type": "code",
      "source": [
        "# uses a Bash Shell command to list all directories in your current working directory\n",
        "\n",
        "%ls"
      ],
      "metadata": {
        "id": "RBqs5TLGT10E",
        "colab": {
          "base_uri": "https://localhost:8080/"
        },
        "outputId": "25495d2c-7794-486e-c3ca-da5c30809b96"
      },
      "execution_count": 27,
      "outputs": [
        {
          "output_type": "stream",
          "name": "stdout",
          "text": [
            "\u001b[0m\u001b[01;34msample_data\u001b[0m/\n"
          ]
        }
      ]
    },
    {
      "cell_type": "code",
      "source": [
        "# uses a Bash Shell command to create a new directory\n",
        "\n",
        "%mkdir workshop_data"
      ],
      "metadata": {
        "id": "F4IVoY8sWUXj"
      },
      "execution_count": 28,
      "outputs": []
    },
    {
      "cell_type": "code",
      "source": [
        "%ls"
      ],
      "metadata": {
        "id": "fvpuGvWLlhur",
        "colab": {
          "base_uri": "https://localhost:8080/"
        },
        "outputId": "d15e0a0c-e744-48ec-c8ce-e6064bd4c2c8"
      },
      "execution_count": 29,
      "outputs": [
        {
          "output_type": "stream",
          "name": "stdout",
          "text": [
            "\u001b[0m\u001b[01;34msample_data\u001b[0m/  \u001b[01;34mworkshop_data\u001b[0m/\n"
          ]
        }
      ]
    },
    {
      "cell_type": "code",
      "source": [
        "# uses a Bash shell direcotry to change our current directory to the new one\n",
        "\n",
        "%cd workshop_data"
      ],
      "metadata": {
        "id": "yZ76giMyWW23",
        "colab": {
          "base_uri": "https://localhost:8080/"
        },
        "outputId": "bbb47e50-d097-4a7b-a351-6ebade890b6c"
      },
      "execution_count": 30,
      "outputs": [
        {
          "output_type": "stream",
          "name": "stdout",
          "text": [
            "/content/workshop_data\n"
          ]
        }
      ]
    },
    {
      "cell_type": "code",
      "source": [
        "# uses a Bash shell command wget to access data from website\n",
        "# -P option allows you to specify the destination for the import\n",
        "# -O option allows you to specify the name of the file when is imported\n",
        "# The web address is treated as a string, and must have quotation marks\n",
        "\n",
        "!wget -P /content/workshop_data \"https://ir.ua.edu/bitstream/handle/123456789/8085/FY2020%20CEO%20Pay%20Ratios.xlsx?sequence=1&isAllowed=y\" -O pay_ratio.xlsx"
      ],
      "metadata": {
        "id": "TokgxwhYV7cf",
        "colab": {
          "base_uri": "https://localhost:8080/"
        },
        "outputId": "71c54941-5779-4e24-fb98-e216e75b6298"
      },
      "execution_count": 31,
      "outputs": [
        {
          "output_type": "stream",
          "name": "stdout",
          "text": [
            "--2022-06-06 19:14:23--  https://ir.ua.edu/bitstream/handle/123456789/8085/FY2020%20CEO%20Pay%20Ratios.xlsx?sequence=1&isAllowed=y\n",
            "Resolving ir.ua.edu (ir.ua.edu)... 130.160.24.126\n",
            "Connecting to ir.ua.edu (ir.ua.edu)|130.160.24.126|:443... connected.\n",
            "HTTP request sent, awaiting response... 200 OK\n",
            "Length: 623427 (609K) [application/vnd.openxmlformats-officedocument.spreadsheetml.sheet]\n",
            "Saving to: ‘pay_ratio.xlsx’\n",
            "\n",
            "caltime             100%[===================>] 608.82K  --.-KB/s    in 0.1s    \n",
            "\n",
            "2022-06-06 19:14:24 (4.92 MB/s) - ‘pay_ratio.xlsx’ saved [623427/623427]\n",
            "\n"
          ]
        }
      ]
    },
    {
      "cell_type": "markdown",
      "source": [
        "_________________________________________________________\n",
        "* [10] [\"7 ways to load external data into Google Colab\"](https://towardsdatascience.com/7-ways-to-load-external-data-into-google-colab-7ba73e7d5fc7) by B. Chen\n",
        "* [11] [Fiscal 2020 CEO Pay Ratios](http://ir.ua.edu/handle/123456789/8085), by Mark Siciliano, UA Libraries.\n"
      ],
      "metadata": {
        "id": "xttJHjCGbHDk"
      }
    },
    {
      "cell_type": "code",
      "source": [
        "# Create a DataFrame by using the Pandas Excel reader to important the dataset\n",
        "\n",
        "pay_ratio_df = pd.read_excel(\"pay_ratio.xlsx\")"
      ],
      "metadata": {
        "id": "FC2ZifRvWGJW"
      },
      "execution_count": 32,
      "outputs": []
    },
    {
      "cell_type": "code",
      "source": [
        "# Let's take a look at the DataFrame we've created\n",
        "\n",
        "pay_ratio_df"
      ],
      "metadata": {
        "id": "oAWqPBqpt43L",
        "colab": {
          "base_uri": "https://localhost:8080/",
          "height": 817
        },
        "outputId": "d7e57216-7734-4bb7-d8e0-5ff6f5465ac0"
      },
      "execution_count": 33,
      "outputs": [
        {
          "output_type": "execute_result",
          "data": {
            "text/plain": [
              "                          Company                     PEO  Year  Female  \\\n",
              "0                10X Genomics Inc           Serge Saxonov  2020     NaN   \n",
              "1           1-800-Flowers.com Inc            James McCann  2020     NaN   \n",
              "2        1st Constitution Bancorp          Robert Mangano  2020     NaN   \n",
              "3     1st Franklin Financial Corp        Virginia Herring  2020     1.0   \n",
              "4                 1st Source Corp  Christopher Murphy III  2020     NaN   \n",
              "...                           ...                     ...   ...     ...   \n",
              "2499                    Zovio Inc            Andrew Clark  2020     NaN   \n",
              "2500                  Zscaler Inc            Jay Chaudhry  2020     NaN   \n",
              "2501                   Zumiez Inc          Richard Brooks  2020     NaN   \n",
              "2502                Zymeworks Inc             Ali Tehrani  2020     NaN   \n",
              "2503                    Zynga Inc            Frank Gibeau  2020     NaN   \n",
              "\n",
              "       Pay Ratio     PEO_Tot  Median Pay   Det Date  EmpInc DeMin  ...  \\\n",
              "0      53.557996  10882717.0      203195 2020-12-31   817.0  True  ...   \n",
              "1     116.554711   3236025.0       27764 2018-07-01  4300.0   NaN  ...   \n",
              "2      28.055458   1763005.0       62840 2020-11-30   218.0   NaN  ...   \n",
              "3      21.380329    858634.0       40160 2020-12-31  1475.0   NaN  ...   \n",
              "4      38.544226   2321326.0       60225 2020-12-31  1175.0   NaN  ...   \n",
              "...          ...         ...         ...        ...     ...   ...  ...   \n",
              "2499   39.514342   2775764.0       70247 2020-12-31  1522.0   NaN  ...   \n",
              "2500   38.983354   6620660.0      169833 2020-07-31  2000.0   NaN  ...   \n",
              "2501  243.946790   1664205.0        6822 2021-01-31  8851.0  True  ...   \n",
              "2502   30.323976   4788459.0      157910 2020-10-01   354.0   NaN  ...   \n",
              "2503  323.987083  32003768.0       98781 2020-10-01  2192.0   NaN  ...   \n",
              "\n",
              "      Sector                  S_Desc   Group  \\\n",
              "0       35.0             Health Care  3520.0   \n",
              "1       25.0  Consumer Discretionary  2550.0   \n",
              "2       40.0              Financials  4010.0   \n",
              "3       40.0              Financials  4020.0   \n",
              "4       40.0              Financials  4010.0   \n",
              "...      ...                     ...     ...   \n",
              "2499    25.0  Consumer Discretionary  2530.0   \n",
              "2500    45.0  Information Technology  4510.0   \n",
              "2501    25.0  Consumer Discretionary  2550.0   \n",
              "2502    35.0             Health Care  3510.0   \n",
              "2503    50.0  Communication Services  5020.0   \n",
              "\n",
              "                                              G_Desc  Industry  \\\n",
              "0     Pharmaceuticals, Biotechnology & Life Sciences  352030.0   \n",
              "1                                          Retailing  255020.0   \n",
              "2                                              Banks  401010.0   \n",
              "3                             Diversified Financials  402020.0   \n",
              "4                                              Banks  401010.0   \n",
              "...                                              ...       ...   \n",
              "2499                               Consumer Services  253020.0   \n",
              "2500                             Software & Services  451030.0   \n",
              "2501                                       Retailing  255040.0   \n",
              "2502                Health Care Equipment & Services  351010.0   \n",
              "2503                           Media & Entertainment  502020.0   \n",
              "\n",
              "                                  I_Desc      SubInd  \\\n",
              "0         Life Sciences Tools & Services  35203010.0   \n",
              "1     Internet & Direct Marketing Retail  25502020.0   \n",
              "2                                  Banks  40101015.0   \n",
              "3                       Consumer Finance  40202010.0   \n",
              "4                                  Banks  40101015.0   \n",
              "...                                  ...         ...   \n",
              "2499       Diversified Consumer Services  25302010.0   \n",
              "2500                            Software  45103020.0   \n",
              "2501                    Specialty Retail  25504010.0   \n",
              "2502    Health Care Equipment & Supplies  35101010.0   \n",
              "2503                       Entertainment  50202020.0   \n",
              "\n",
              "                                 SI_Desc     SIC  NoFloat  \n",
              "0         Life Sciences Tools & Services  3826.0      NaN  \n",
              "1     Internet & Direct Marketing Retail  5961.0      NaN  \n",
              "2                         Regional Banks  6020.0      NaN  \n",
              "3                       Consumer Finance  6141.0      1.0  \n",
              "4                         Regional Banks  6020.0      NaN  \n",
              "...                                  ...     ...      ...  \n",
              "2499                  Education Services  8200.0      NaN  \n",
              "2500                    Systems Software  7370.0      NaN  \n",
              "2501                      Apparel Retail  5651.0      NaN  \n",
              "2502               Health Care Equipment  2834.0      NaN  \n",
              "2503      Interactive Home Entertainment  7372.0      NaN  \n",
              "\n",
              "[2504 rows x 38 columns]"
            ],
            "text/html": [
              "\n",
              "  <div id=\"df-a7a202fd-0f6f-4056-932e-170b98784c5f\">\n",
              "    <div class=\"colab-df-container\">\n",
              "      <div>\n",
              "<style scoped>\n",
              "    .dataframe tbody tr th:only-of-type {\n",
              "        vertical-align: middle;\n",
              "    }\n",
              "\n",
              "    .dataframe tbody tr th {\n",
              "        vertical-align: top;\n",
              "    }\n",
              "\n",
              "    .dataframe thead th {\n",
              "        text-align: right;\n",
              "    }\n",
              "</style>\n",
              "<table border=\"1\" class=\"dataframe\">\n",
              "  <thead>\n",
              "    <tr style=\"text-align: right;\">\n",
              "      <th></th>\n",
              "      <th>Company</th>\n",
              "      <th>PEO</th>\n",
              "      <th>Year</th>\n",
              "      <th>Female</th>\n",
              "      <th>Pay Ratio</th>\n",
              "      <th>PEO_Tot</th>\n",
              "      <th>Median Pay</th>\n",
              "      <th>Det Date</th>\n",
              "      <th>EmpInc</th>\n",
              "      <th>DeMin</th>\n",
              "      <th>...</th>\n",
              "      <th>Sector</th>\n",
              "      <th>S_Desc</th>\n",
              "      <th>Group</th>\n",
              "      <th>G_Desc</th>\n",
              "      <th>Industry</th>\n",
              "      <th>I_Desc</th>\n",
              "      <th>SubInd</th>\n",
              "      <th>SI_Desc</th>\n",
              "      <th>SIC</th>\n",
              "      <th>NoFloat</th>\n",
              "    </tr>\n",
              "  </thead>\n",
              "  <tbody>\n",
              "    <tr>\n",
              "      <th>0</th>\n",
              "      <td>10X Genomics Inc</td>\n",
              "      <td>Serge Saxonov</td>\n",
              "      <td>2020</td>\n",
              "      <td>NaN</td>\n",
              "      <td>53.557996</td>\n",
              "      <td>10882717.0</td>\n",
              "      <td>203195</td>\n",
              "      <td>2020-12-31</td>\n",
              "      <td>817.0</td>\n",
              "      <td>True</td>\n",
              "      <td>...</td>\n",
              "      <td>35.0</td>\n",
              "      <td>Health Care</td>\n",
              "      <td>3520.0</td>\n",
              "      <td>Pharmaceuticals, Biotechnology &amp; Life Sciences</td>\n",
              "      <td>352030.0</td>\n",
              "      <td>Life Sciences Tools &amp; Services</td>\n",
              "      <td>35203010.0</td>\n",
              "      <td>Life Sciences Tools &amp; Services</td>\n",
              "      <td>3826.0</td>\n",
              "      <td>NaN</td>\n",
              "    </tr>\n",
              "    <tr>\n",
              "      <th>1</th>\n",
              "      <td>1-800-Flowers.com Inc</td>\n",
              "      <td>James McCann</td>\n",
              "      <td>2020</td>\n",
              "      <td>NaN</td>\n",
              "      <td>116.554711</td>\n",
              "      <td>3236025.0</td>\n",
              "      <td>27764</td>\n",
              "      <td>2018-07-01</td>\n",
              "      <td>4300.0</td>\n",
              "      <td>NaN</td>\n",
              "      <td>...</td>\n",
              "      <td>25.0</td>\n",
              "      <td>Consumer Discretionary</td>\n",
              "      <td>2550.0</td>\n",
              "      <td>Retailing</td>\n",
              "      <td>255020.0</td>\n",
              "      <td>Internet &amp; Direct Marketing Retail</td>\n",
              "      <td>25502020.0</td>\n",
              "      <td>Internet &amp; Direct Marketing Retail</td>\n",
              "      <td>5961.0</td>\n",
              "      <td>NaN</td>\n",
              "    </tr>\n",
              "    <tr>\n",
              "      <th>2</th>\n",
              "      <td>1st Constitution Bancorp</td>\n",
              "      <td>Robert Mangano</td>\n",
              "      <td>2020</td>\n",
              "      <td>NaN</td>\n",
              "      <td>28.055458</td>\n",
              "      <td>1763005.0</td>\n",
              "      <td>62840</td>\n",
              "      <td>2020-11-30</td>\n",
              "      <td>218.0</td>\n",
              "      <td>NaN</td>\n",
              "      <td>...</td>\n",
              "      <td>40.0</td>\n",
              "      <td>Financials</td>\n",
              "      <td>4010.0</td>\n",
              "      <td>Banks</td>\n",
              "      <td>401010.0</td>\n",
              "      <td>Banks</td>\n",
              "      <td>40101015.0</td>\n",
              "      <td>Regional Banks</td>\n",
              "      <td>6020.0</td>\n",
              "      <td>NaN</td>\n",
              "    </tr>\n",
              "    <tr>\n",
              "      <th>3</th>\n",
              "      <td>1st Franklin Financial Corp</td>\n",
              "      <td>Virginia Herring</td>\n",
              "      <td>2020</td>\n",
              "      <td>1.0</td>\n",
              "      <td>21.380329</td>\n",
              "      <td>858634.0</td>\n",
              "      <td>40160</td>\n",
              "      <td>2020-12-31</td>\n",
              "      <td>1475.0</td>\n",
              "      <td>NaN</td>\n",
              "      <td>...</td>\n",
              "      <td>40.0</td>\n",
              "      <td>Financials</td>\n",
              "      <td>4020.0</td>\n",
              "      <td>Diversified Financials</td>\n",
              "      <td>402020.0</td>\n",
              "      <td>Consumer Finance</td>\n",
              "      <td>40202010.0</td>\n",
              "      <td>Consumer Finance</td>\n",
              "      <td>6141.0</td>\n",
              "      <td>1.0</td>\n",
              "    </tr>\n",
              "    <tr>\n",
              "      <th>4</th>\n",
              "      <td>1st Source Corp</td>\n",
              "      <td>Christopher Murphy III</td>\n",
              "      <td>2020</td>\n",
              "      <td>NaN</td>\n",
              "      <td>38.544226</td>\n",
              "      <td>2321326.0</td>\n",
              "      <td>60225</td>\n",
              "      <td>2020-12-31</td>\n",
              "      <td>1175.0</td>\n",
              "      <td>NaN</td>\n",
              "      <td>...</td>\n",
              "      <td>40.0</td>\n",
              "      <td>Financials</td>\n",
              "      <td>4010.0</td>\n",
              "      <td>Banks</td>\n",
              "      <td>401010.0</td>\n",
              "      <td>Banks</td>\n",
              "      <td>40101015.0</td>\n",
              "      <td>Regional Banks</td>\n",
              "      <td>6020.0</td>\n",
              "      <td>NaN</td>\n",
              "    </tr>\n",
              "    <tr>\n",
              "      <th>...</th>\n",
              "      <td>...</td>\n",
              "      <td>...</td>\n",
              "      <td>...</td>\n",
              "      <td>...</td>\n",
              "      <td>...</td>\n",
              "      <td>...</td>\n",
              "      <td>...</td>\n",
              "      <td>...</td>\n",
              "      <td>...</td>\n",
              "      <td>...</td>\n",
              "      <td>...</td>\n",
              "      <td>...</td>\n",
              "      <td>...</td>\n",
              "      <td>...</td>\n",
              "      <td>...</td>\n",
              "      <td>...</td>\n",
              "      <td>...</td>\n",
              "      <td>...</td>\n",
              "      <td>...</td>\n",
              "      <td>...</td>\n",
              "      <td>...</td>\n",
              "    </tr>\n",
              "    <tr>\n",
              "      <th>2499</th>\n",
              "      <td>Zovio Inc</td>\n",
              "      <td>Andrew Clark</td>\n",
              "      <td>2020</td>\n",
              "      <td>NaN</td>\n",
              "      <td>39.514342</td>\n",
              "      <td>2775764.0</td>\n",
              "      <td>70247</td>\n",
              "      <td>2020-12-31</td>\n",
              "      <td>1522.0</td>\n",
              "      <td>NaN</td>\n",
              "      <td>...</td>\n",
              "      <td>25.0</td>\n",
              "      <td>Consumer Discretionary</td>\n",
              "      <td>2530.0</td>\n",
              "      <td>Consumer Services</td>\n",
              "      <td>253020.0</td>\n",
              "      <td>Diversified Consumer Services</td>\n",
              "      <td>25302010.0</td>\n",
              "      <td>Education Services</td>\n",
              "      <td>8200.0</td>\n",
              "      <td>NaN</td>\n",
              "    </tr>\n",
              "    <tr>\n",
              "      <th>2500</th>\n",
              "      <td>Zscaler Inc</td>\n",
              "      <td>Jay Chaudhry</td>\n",
              "      <td>2020</td>\n",
              "      <td>NaN</td>\n",
              "      <td>38.983354</td>\n",
              "      <td>6620660.0</td>\n",
              "      <td>169833</td>\n",
              "      <td>2020-07-31</td>\n",
              "      <td>2000.0</td>\n",
              "      <td>NaN</td>\n",
              "      <td>...</td>\n",
              "      <td>45.0</td>\n",
              "      <td>Information Technology</td>\n",
              "      <td>4510.0</td>\n",
              "      <td>Software &amp; Services</td>\n",
              "      <td>451030.0</td>\n",
              "      <td>Software</td>\n",
              "      <td>45103020.0</td>\n",
              "      <td>Systems Software</td>\n",
              "      <td>7370.0</td>\n",
              "      <td>NaN</td>\n",
              "    </tr>\n",
              "    <tr>\n",
              "      <th>2501</th>\n",
              "      <td>Zumiez Inc</td>\n",
              "      <td>Richard Brooks</td>\n",
              "      <td>2020</td>\n",
              "      <td>NaN</td>\n",
              "      <td>243.946790</td>\n",
              "      <td>1664205.0</td>\n",
              "      <td>6822</td>\n",
              "      <td>2021-01-31</td>\n",
              "      <td>8851.0</td>\n",
              "      <td>True</td>\n",
              "      <td>...</td>\n",
              "      <td>25.0</td>\n",
              "      <td>Consumer Discretionary</td>\n",
              "      <td>2550.0</td>\n",
              "      <td>Retailing</td>\n",
              "      <td>255040.0</td>\n",
              "      <td>Specialty Retail</td>\n",
              "      <td>25504010.0</td>\n",
              "      <td>Apparel Retail</td>\n",
              "      <td>5651.0</td>\n",
              "      <td>NaN</td>\n",
              "    </tr>\n",
              "    <tr>\n",
              "      <th>2502</th>\n",
              "      <td>Zymeworks Inc</td>\n",
              "      <td>Ali Tehrani</td>\n",
              "      <td>2020</td>\n",
              "      <td>NaN</td>\n",
              "      <td>30.323976</td>\n",
              "      <td>4788459.0</td>\n",
              "      <td>157910</td>\n",
              "      <td>2020-10-01</td>\n",
              "      <td>354.0</td>\n",
              "      <td>NaN</td>\n",
              "      <td>...</td>\n",
              "      <td>35.0</td>\n",
              "      <td>Health Care</td>\n",
              "      <td>3510.0</td>\n",
              "      <td>Health Care Equipment &amp; Services</td>\n",
              "      <td>351010.0</td>\n",
              "      <td>Health Care Equipment &amp; Supplies</td>\n",
              "      <td>35101010.0</td>\n",
              "      <td>Health Care Equipment</td>\n",
              "      <td>2834.0</td>\n",
              "      <td>NaN</td>\n",
              "    </tr>\n",
              "    <tr>\n",
              "      <th>2503</th>\n",
              "      <td>Zynga Inc</td>\n",
              "      <td>Frank Gibeau</td>\n",
              "      <td>2020</td>\n",
              "      <td>NaN</td>\n",
              "      <td>323.987083</td>\n",
              "      <td>32003768.0</td>\n",
              "      <td>98781</td>\n",
              "      <td>2020-10-01</td>\n",
              "      <td>2192.0</td>\n",
              "      <td>NaN</td>\n",
              "      <td>...</td>\n",
              "      <td>50.0</td>\n",
              "      <td>Communication Services</td>\n",
              "      <td>5020.0</td>\n",
              "      <td>Media &amp; Entertainment</td>\n",
              "      <td>502020.0</td>\n",
              "      <td>Entertainment</td>\n",
              "      <td>50202020.0</td>\n",
              "      <td>Interactive Home Entertainment</td>\n",
              "      <td>7372.0</td>\n",
              "      <td>NaN</td>\n",
              "    </tr>\n",
              "  </tbody>\n",
              "</table>\n",
              "<p>2504 rows × 38 columns</p>\n",
              "</div>\n",
              "      <button class=\"colab-df-convert\" onclick=\"convertToInteractive('df-a7a202fd-0f6f-4056-932e-170b98784c5f')\"\n",
              "              title=\"Convert this dataframe to an interactive table.\"\n",
              "              style=\"display:none;\">\n",
              "        \n",
              "  <svg xmlns=\"http://www.w3.org/2000/svg\" height=\"24px\"viewBox=\"0 0 24 24\"\n",
              "       width=\"24px\">\n",
              "    <path d=\"M0 0h24v24H0V0z\" fill=\"none\"/>\n",
              "    <path d=\"M18.56 5.44l.94 2.06.94-2.06 2.06-.94-2.06-.94-.94-2.06-.94 2.06-2.06.94zm-11 1L8.5 8.5l.94-2.06 2.06-.94-2.06-.94L8.5 2.5l-.94 2.06-2.06.94zm10 10l.94 2.06.94-2.06 2.06-.94-2.06-.94-.94-2.06-.94 2.06-2.06.94z\"/><path d=\"M17.41 7.96l-1.37-1.37c-.4-.4-.92-.59-1.43-.59-.52 0-1.04.2-1.43.59L10.3 9.45l-7.72 7.72c-.78.78-.78 2.05 0 2.83L4 21.41c.39.39.9.59 1.41.59.51 0 1.02-.2 1.41-.59l7.78-7.78 2.81-2.81c.8-.78.8-2.07 0-2.86zM5.41 20L4 18.59l7.72-7.72 1.47 1.35L5.41 20z\"/>\n",
              "  </svg>\n",
              "      </button>\n",
              "      \n",
              "  <style>\n",
              "    .colab-df-container {\n",
              "      display:flex;\n",
              "      flex-wrap:wrap;\n",
              "      gap: 12px;\n",
              "    }\n",
              "\n",
              "    .colab-df-convert {\n",
              "      background-color: #E8F0FE;\n",
              "      border: none;\n",
              "      border-radius: 50%;\n",
              "      cursor: pointer;\n",
              "      display: none;\n",
              "      fill: #1967D2;\n",
              "      height: 32px;\n",
              "      padding: 0 0 0 0;\n",
              "      width: 32px;\n",
              "    }\n",
              "\n",
              "    .colab-df-convert:hover {\n",
              "      background-color: #E2EBFA;\n",
              "      box-shadow: 0px 1px 2px rgba(60, 64, 67, 0.3), 0px 1px 3px 1px rgba(60, 64, 67, 0.15);\n",
              "      fill: #174EA6;\n",
              "    }\n",
              "\n",
              "    [theme=dark] .colab-df-convert {\n",
              "      background-color: #3B4455;\n",
              "      fill: #D2E3FC;\n",
              "    }\n",
              "\n",
              "    [theme=dark] .colab-df-convert:hover {\n",
              "      background-color: #434B5C;\n",
              "      box-shadow: 0px 1px 3px 1px rgba(0, 0, 0, 0.15);\n",
              "      filter: drop-shadow(0px 1px 2px rgba(0, 0, 0, 0.3));\n",
              "      fill: #FFFFFF;\n",
              "    }\n",
              "  </style>\n",
              "\n",
              "      <script>\n",
              "        const buttonEl =\n",
              "          document.querySelector('#df-a7a202fd-0f6f-4056-932e-170b98784c5f button.colab-df-convert');\n",
              "        buttonEl.style.display =\n",
              "          google.colab.kernel.accessAllowed ? 'block' : 'none';\n",
              "\n",
              "        async function convertToInteractive(key) {\n",
              "          const element = document.querySelector('#df-a7a202fd-0f6f-4056-932e-170b98784c5f');\n",
              "          const dataTable =\n",
              "            await google.colab.kernel.invokeFunction('convertToInteractive',\n",
              "                                                     [key], {});\n",
              "          if (!dataTable) return;\n",
              "\n",
              "          const docLinkHtml = 'Like what you see? Visit the ' +\n",
              "            '<a target=\"_blank\" href=https://colab.research.google.com/notebooks/data_table.ipynb>data table notebook</a>'\n",
              "            + ' to learn more about interactive tables.';\n",
              "          element.innerHTML = '';\n",
              "          dataTable['output_type'] = 'display_data';\n",
              "          await google.colab.output.renderOutput(dataTable, element);\n",
              "          const docLink = document.createElement('div');\n",
              "          docLink.innerHTML = docLinkHtml;\n",
              "          element.appendChild(docLink);\n",
              "        }\n",
              "      </script>\n",
              "    </div>\n",
              "  </div>\n",
              "  "
            ]
          },
          "metadata": {},
          "execution_count": 33
        }
      ]
    },
    {
      "cell_type": "markdown",
      "source": [
        "## **Tools for Analyzing Data Using Pandas** [4,12-18]"
      ],
      "metadata": {
        "id": "188BX15Cj_lV"
      }
    },
    {
      "cell_type": "code",
      "source": [
        "# We can view some basic information about the cells in the DataFrame with\n",
        "# the info() function\n",
        "\n",
        "pay_ratio_df.info()"
      ],
      "metadata": {
        "id": "XDnkHaxRbbbF",
        "colab": {
          "base_uri": "https://localhost:8080/"
        },
        "outputId": "934e25d5-6299-4372-ac3d-0f45f22009d2"
      },
      "execution_count": 34,
      "outputs": [
        {
          "output_type": "stream",
          "name": "stdout",
          "text": [
            "<class 'pandas.core.frame.DataFrame'>\n",
            "RangeIndex: 2504 entries, 0 to 2503\n",
            "Data columns (total 38 columns):\n",
            " #   Column           Non-Null Count  Dtype         \n",
            "---  ------           --------------  -----         \n",
            " 0   Company          2504 non-null   object        \n",
            " 1   PEO              2504 non-null   object        \n",
            " 2   Year             2504 non-null   int64         \n",
            " 3   Female           122 non-null    float64       \n",
            " 4   Pay Ratio        2504 non-null   float64       \n",
            " 5   PEO_Tot          2504 non-null   float64       \n",
            " 6   Median Pay       2504 non-null   int64         \n",
            " 7   Det Date         2504 non-null   datetime64[ns]\n",
            " 8   EmpInc           2466 non-null   float64       \n",
            " 9   DeMin            567 non-null    object        \n",
            " 10  DMinVal          547 non-null    float64       \n",
            " 11  Annualize        1224 non-null   float64       \n",
            " 12  AltAvail         237 non-null    float64       \n",
            " 13  Alt Ratio        235 non-null    float64       \n",
            " 14  Alt Description  235 non-null    object        \n",
            " 15  COLA             19 non-null     float64       \n",
            " 16  AcqExempt        119 non-null    float64       \n",
            " 17  AcqEmp           107 non-null    float64       \n",
            " 18  Notes            59 non-null     object        \n",
            " 19  MultPEO          40 non-null     float64       \n",
            " 20  Word Count       2497 non-null   float64       \n",
            " 21  Ticker           2461 non-null   object        \n",
            " 22  City             2503 non-null   object        \n",
            " 23  State            2503 non-null   object        \n",
            " 24  SXP500           491 non-null    float64       \n",
            " 25  R3000            2252 non-null   float64       \n",
            " 26  R2000            1316 non-null   float64       \n",
            " 27  R1000            936 non-null    float64       \n",
            " 28  Sector           2503 non-null   float64       \n",
            " 29  S_Desc           2503 non-null   object        \n",
            " 30  Group            2503 non-null   float64       \n",
            " 31  G_Desc           2503 non-null   object        \n",
            " 32  Industry         2503 non-null   float64       \n",
            " 33  I_Desc           2503 non-null   object        \n",
            " 34  SubInd           2503 non-null   float64       \n",
            " 35  SI_Desc          2503 non-null   object        \n",
            " 36  SIC              2503 non-null   float64       \n",
            " 37  NoFloat          43 non-null     float64       \n",
            "dtypes: datetime64[ns](1), float64(23), int64(2), object(12)\n",
            "memory usage: 743.5+ KB\n"
          ]
        }
      ]
    },
    {
      "cell_type": "code",
      "source": [
        "# We can also get some quick descriptive statistics with the describe() function\n",
        "\n",
        "pay_ratio_df.describe()"
      ],
      "metadata": {
        "id": "V8--ZpKsXrIF",
        "colab": {
          "base_uri": "https://localhost:8080/",
          "height": 394
        },
        "outputId": "aaa5e179-716d-45d8-f860-c57b84349cbf"
      },
      "execution_count": 35,
      "outputs": [
        {
          "output_type": "execute_result",
          "data": {
            "text/plain": [
              "              Year  Female    Pay Ratio       PEO_Tot     Median Pay  \\\n",
              "count  2504.000000   122.0  2504.000000  2.504000e+03    2504.000000   \n",
              "mean   2020.000799     1.0   164.766740  7.708186e+06   90591.744808   \n",
              "std       0.028256     0.0   374.182682  1.007602e+07   73222.134115   \n",
              "min    2020.000000     1.0     0.000000  0.000000e+00    1339.000000   \n",
              "25%    2020.000000     1.0    33.755090  2.808335e+06   47247.500000   \n",
              "50%    2020.000000     1.0    71.402597  5.355706e+06   69404.500000   \n",
              "75%    2020.000000     1.0   156.374305  9.605794e+06  112287.500000   \n",
              "max    2021.000000     1.0  6565.764286  2.111312e+08  752806.000000   \n",
              "\n",
              "             EmpInc       DMinVal  Annualize  AltAvail    Alt Ratio  ...  \\\n",
              "count  2.466000e+03    547.000000     1224.0     237.0   235.000000  ...   \n",
              "mean   1.675614e+04   1051.595978        1.0       1.0   189.751830  ...   \n",
              "std    6.640487e+04   3936.239440        0.0       0.0   308.977866  ...   \n",
              "min    1.000000e+00      1.000000        1.0       1.0     1.400000  ...   \n",
              "25%    7.862500e+02     54.500000        1.0       1.0    48.500000  ...   \n",
              "50%    3.152000e+03    217.000000        1.0       1.0    89.000000  ...   \n",
              "75%    1.085475e+04    842.000000        1.0       1.0   177.500000  ...   \n",
              "max    2.155918e+06  78976.000000        1.0       1.0  2279.000000  ...   \n",
              "\n",
              "       SXP500   R3000   R2000  R1000       Sector        Group       Industry  \\\n",
              "count   491.0  2252.0  1316.0  936.0  2503.000000  2503.000000    2503.000000   \n",
              "mean      1.0     1.0     1.0    1.0    34.133040  3430.123851  343032.768678   \n",
              "std       0.0     0.0     0.0    0.0    13.533697  1352.300622  135226.045327   \n",
              "min       1.0     1.0     1.0    1.0    10.000000  1010.000000  101010.000000   \n",
              "25%       1.0     1.0     1.0    1.0    20.000000  2030.000000  203040.000000   \n",
              "50%       1.0     1.0     1.0    1.0    35.000000  3520.000000  352010.000000   \n",
              "75%       1.0     1.0     1.0    1.0    45.000000  4510.000000  451020.000000   \n",
              "max       1.0     1.0     1.0    1.0    60.000000  6010.000000  601020.000000   \n",
              "\n",
              "             SubInd          SIC  NoFloat  \n",
              "count  2.503000e+03  2503.000000     43.0  \n",
              "mean   3.430330e+07  4913.290052      1.0  \n",
              "std    1.352261e+07  1907.572730      0.0  \n",
              "min    1.010101e+07   100.000000      1.0  \n",
              "25%    2.030402e+07  3490.000000      1.0  \n",
              "50%    3.520101e+07  4953.000000      1.0  \n",
              "75%    4.510202e+07  6331.000000      1.0  \n",
              "max    6.010204e+07  9997.000000      1.0  \n",
              "\n",
              "[8 rows x 25 columns]"
            ],
            "text/html": [
              "\n",
              "  <div id=\"df-a037c071-c374-4b02-a78d-c301876c1df8\">\n",
              "    <div class=\"colab-df-container\">\n",
              "      <div>\n",
              "<style scoped>\n",
              "    .dataframe tbody tr th:only-of-type {\n",
              "        vertical-align: middle;\n",
              "    }\n",
              "\n",
              "    .dataframe tbody tr th {\n",
              "        vertical-align: top;\n",
              "    }\n",
              "\n",
              "    .dataframe thead th {\n",
              "        text-align: right;\n",
              "    }\n",
              "</style>\n",
              "<table border=\"1\" class=\"dataframe\">\n",
              "  <thead>\n",
              "    <tr style=\"text-align: right;\">\n",
              "      <th></th>\n",
              "      <th>Year</th>\n",
              "      <th>Female</th>\n",
              "      <th>Pay Ratio</th>\n",
              "      <th>PEO_Tot</th>\n",
              "      <th>Median Pay</th>\n",
              "      <th>EmpInc</th>\n",
              "      <th>DMinVal</th>\n",
              "      <th>Annualize</th>\n",
              "      <th>AltAvail</th>\n",
              "      <th>Alt Ratio</th>\n",
              "      <th>...</th>\n",
              "      <th>SXP500</th>\n",
              "      <th>R3000</th>\n",
              "      <th>R2000</th>\n",
              "      <th>R1000</th>\n",
              "      <th>Sector</th>\n",
              "      <th>Group</th>\n",
              "      <th>Industry</th>\n",
              "      <th>SubInd</th>\n",
              "      <th>SIC</th>\n",
              "      <th>NoFloat</th>\n",
              "    </tr>\n",
              "  </thead>\n",
              "  <tbody>\n",
              "    <tr>\n",
              "      <th>count</th>\n",
              "      <td>2504.000000</td>\n",
              "      <td>122.0</td>\n",
              "      <td>2504.000000</td>\n",
              "      <td>2.504000e+03</td>\n",
              "      <td>2504.000000</td>\n",
              "      <td>2.466000e+03</td>\n",
              "      <td>547.000000</td>\n",
              "      <td>1224.0</td>\n",
              "      <td>237.0</td>\n",
              "      <td>235.000000</td>\n",
              "      <td>...</td>\n",
              "      <td>491.0</td>\n",
              "      <td>2252.0</td>\n",
              "      <td>1316.0</td>\n",
              "      <td>936.0</td>\n",
              "      <td>2503.000000</td>\n",
              "      <td>2503.000000</td>\n",
              "      <td>2503.000000</td>\n",
              "      <td>2.503000e+03</td>\n",
              "      <td>2503.000000</td>\n",
              "      <td>43.0</td>\n",
              "    </tr>\n",
              "    <tr>\n",
              "      <th>mean</th>\n",
              "      <td>2020.000799</td>\n",
              "      <td>1.0</td>\n",
              "      <td>164.766740</td>\n",
              "      <td>7.708186e+06</td>\n",
              "      <td>90591.744808</td>\n",
              "      <td>1.675614e+04</td>\n",
              "      <td>1051.595978</td>\n",
              "      <td>1.0</td>\n",
              "      <td>1.0</td>\n",
              "      <td>189.751830</td>\n",
              "      <td>...</td>\n",
              "      <td>1.0</td>\n",
              "      <td>1.0</td>\n",
              "      <td>1.0</td>\n",
              "      <td>1.0</td>\n",
              "      <td>34.133040</td>\n",
              "      <td>3430.123851</td>\n",
              "      <td>343032.768678</td>\n",
              "      <td>3.430330e+07</td>\n",
              "      <td>4913.290052</td>\n",
              "      <td>1.0</td>\n",
              "    </tr>\n",
              "    <tr>\n",
              "      <th>std</th>\n",
              "      <td>0.028256</td>\n",
              "      <td>0.0</td>\n",
              "      <td>374.182682</td>\n",
              "      <td>1.007602e+07</td>\n",
              "      <td>73222.134115</td>\n",
              "      <td>6.640487e+04</td>\n",
              "      <td>3936.239440</td>\n",
              "      <td>0.0</td>\n",
              "      <td>0.0</td>\n",
              "      <td>308.977866</td>\n",
              "      <td>...</td>\n",
              "      <td>0.0</td>\n",
              "      <td>0.0</td>\n",
              "      <td>0.0</td>\n",
              "      <td>0.0</td>\n",
              "      <td>13.533697</td>\n",
              "      <td>1352.300622</td>\n",
              "      <td>135226.045327</td>\n",
              "      <td>1.352261e+07</td>\n",
              "      <td>1907.572730</td>\n",
              "      <td>0.0</td>\n",
              "    </tr>\n",
              "    <tr>\n",
              "      <th>min</th>\n",
              "      <td>2020.000000</td>\n",
              "      <td>1.0</td>\n",
              "      <td>0.000000</td>\n",
              "      <td>0.000000e+00</td>\n",
              "      <td>1339.000000</td>\n",
              "      <td>1.000000e+00</td>\n",
              "      <td>1.000000</td>\n",
              "      <td>1.0</td>\n",
              "      <td>1.0</td>\n",
              "      <td>1.400000</td>\n",
              "      <td>...</td>\n",
              "      <td>1.0</td>\n",
              "      <td>1.0</td>\n",
              "      <td>1.0</td>\n",
              "      <td>1.0</td>\n",
              "      <td>10.000000</td>\n",
              "      <td>1010.000000</td>\n",
              "      <td>101010.000000</td>\n",
              "      <td>1.010101e+07</td>\n",
              "      <td>100.000000</td>\n",
              "      <td>1.0</td>\n",
              "    </tr>\n",
              "    <tr>\n",
              "      <th>25%</th>\n",
              "      <td>2020.000000</td>\n",
              "      <td>1.0</td>\n",
              "      <td>33.755090</td>\n",
              "      <td>2.808335e+06</td>\n",
              "      <td>47247.500000</td>\n",
              "      <td>7.862500e+02</td>\n",
              "      <td>54.500000</td>\n",
              "      <td>1.0</td>\n",
              "      <td>1.0</td>\n",
              "      <td>48.500000</td>\n",
              "      <td>...</td>\n",
              "      <td>1.0</td>\n",
              "      <td>1.0</td>\n",
              "      <td>1.0</td>\n",
              "      <td>1.0</td>\n",
              "      <td>20.000000</td>\n",
              "      <td>2030.000000</td>\n",
              "      <td>203040.000000</td>\n",
              "      <td>2.030402e+07</td>\n",
              "      <td>3490.000000</td>\n",
              "      <td>1.0</td>\n",
              "    </tr>\n",
              "    <tr>\n",
              "      <th>50%</th>\n",
              "      <td>2020.000000</td>\n",
              "      <td>1.0</td>\n",
              "      <td>71.402597</td>\n",
              "      <td>5.355706e+06</td>\n",
              "      <td>69404.500000</td>\n",
              "      <td>3.152000e+03</td>\n",
              "      <td>217.000000</td>\n",
              "      <td>1.0</td>\n",
              "      <td>1.0</td>\n",
              "      <td>89.000000</td>\n",
              "      <td>...</td>\n",
              "      <td>1.0</td>\n",
              "      <td>1.0</td>\n",
              "      <td>1.0</td>\n",
              "      <td>1.0</td>\n",
              "      <td>35.000000</td>\n",
              "      <td>3520.000000</td>\n",
              "      <td>352010.000000</td>\n",
              "      <td>3.520101e+07</td>\n",
              "      <td>4953.000000</td>\n",
              "      <td>1.0</td>\n",
              "    </tr>\n",
              "    <tr>\n",
              "      <th>75%</th>\n",
              "      <td>2020.000000</td>\n",
              "      <td>1.0</td>\n",
              "      <td>156.374305</td>\n",
              "      <td>9.605794e+06</td>\n",
              "      <td>112287.500000</td>\n",
              "      <td>1.085475e+04</td>\n",
              "      <td>842.000000</td>\n",
              "      <td>1.0</td>\n",
              "      <td>1.0</td>\n",
              "      <td>177.500000</td>\n",
              "      <td>...</td>\n",
              "      <td>1.0</td>\n",
              "      <td>1.0</td>\n",
              "      <td>1.0</td>\n",
              "      <td>1.0</td>\n",
              "      <td>45.000000</td>\n",
              "      <td>4510.000000</td>\n",
              "      <td>451020.000000</td>\n",
              "      <td>4.510202e+07</td>\n",
              "      <td>6331.000000</td>\n",
              "      <td>1.0</td>\n",
              "    </tr>\n",
              "    <tr>\n",
              "      <th>max</th>\n",
              "      <td>2021.000000</td>\n",
              "      <td>1.0</td>\n",
              "      <td>6565.764286</td>\n",
              "      <td>2.111312e+08</td>\n",
              "      <td>752806.000000</td>\n",
              "      <td>2.155918e+06</td>\n",
              "      <td>78976.000000</td>\n",
              "      <td>1.0</td>\n",
              "      <td>1.0</td>\n",
              "      <td>2279.000000</td>\n",
              "      <td>...</td>\n",
              "      <td>1.0</td>\n",
              "      <td>1.0</td>\n",
              "      <td>1.0</td>\n",
              "      <td>1.0</td>\n",
              "      <td>60.000000</td>\n",
              "      <td>6010.000000</td>\n",
              "      <td>601020.000000</td>\n",
              "      <td>6.010204e+07</td>\n",
              "      <td>9997.000000</td>\n",
              "      <td>1.0</td>\n",
              "    </tr>\n",
              "  </tbody>\n",
              "</table>\n",
              "<p>8 rows × 25 columns</p>\n",
              "</div>\n",
              "      <button class=\"colab-df-convert\" onclick=\"convertToInteractive('df-a037c071-c374-4b02-a78d-c301876c1df8')\"\n",
              "              title=\"Convert this dataframe to an interactive table.\"\n",
              "              style=\"display:none;\">\n",
              "        \n",
              "  <svg xmlns=\"http://www.w3.org/2000/svg\" height=\"24px\"viewBox=\"0 0 24 24\"\n",
              "       width=\"24px\">\n",
              "    <path d=\"M0 0h24v24H0V0z\" fill=\"none\"/>\n",
              "    <path d=\"M18.56 5.44l.94 2.06.94-2.06 2.06-.94-2.06-.94-.94-2.06-.94 2.06-2.06.94zm-11 1L8.5 8.5l.94-2.06 2.06-.94-2.06-.94L8.5 2.5l-.94 2.06-2.06.94zm10 10l.94 2.06.94-2.06 2.06-.94-2.06-.94-.94-2.06-.94 2.06-2.06.94z\"/><path d=\"M17.41 7.96l-1.37-1.37c-.4-.4-.92-.59-1.43-.59-.52 0-1.04.2-1.43.59L10.3 9.45l-7.72 7.72c-.78.78-.78 2.05 0 2.83L4 21.41c.39.39.9.59 1.41.59.51 0 1.02-.2 1.41-.59l7.78-7.78 2.81-2.81c.8-.78.8-2.07 0-2.86zM5.41 20L4 18.59l7.72-7.72 1.47 1.35L5.41 20z\"/>\n",
              "  </svg>\n",
              "      </button>\n",
              "      \n",
              "  <style>\n",
              "    .colab-df-container {\n",
              "      display:flex;\n",
              "      flex-wrap:wrap;\n",
              "      gap: 12px;\n",
              "    }\n",
              "\n",
              "    .colab-df-convert {\n",
              "      background-color: #E8F0FE;\n",
              "      border: none;\n",
              "      border-radius: 50%;\n",
              "      cursor: pointer;\n",
              "      display: none;\n",
              "      fill: #1967D2;\n",
              "      height: 32px;\n",
              "      padding: 0 0 0 0;\n",
              "      width: 32px;\n",
              "    }\n",
              "\n",
              "    .colab-df-convert:hover {\n",
              "      background-color: #E2EBFA;\n",
              "      box-shadow: 0px 1px 2px rgba(60, 64, 67, 0.3), 0px 1px 3px 1px rgba(60, 64, 67, 0.15);\n",
              "      fill: #174EA6;\n",
              "    }\n",
              "\n",
              "    [theme=dark] .colab-df-convert {\n",
              "      background-color: #3B4455;\n",
              "      fill: #D2E3FC;\n",
              "    }\n",
              "\n",
              "    [theme=dark] .colab-df-convert:hover {\n",
              "      background-color: #434B5C;\n",
              "      box-shadow: 0px 1px 3px 1px rgba(0, 0, 0, 0.15);\n",
              "      filter: drop-shadow(0px 1px 2px rgba(0, 0, 0, 0.3));\n",
              "      fill: #FFFFFF;\n",
              "    }\n",
              "  </style>\n",
              "\n",
              "      <script>\n",
              "        const buttonEl =\n",
              "          document.querySelector('#df-a037c071-c374-4b02-a78d-c301876c1df8 button.colab-df-convert');\n",
              "        buttonEl.style.display =\n",
              "          google.colab.kernel.accessAllowed ? 'block' : 'none';\n",
              "\n",
              "        async function convertToInteractive(key) {\n",
              "          const element = document.querySelector('#df-a037c071-c374-4b02-a78d-c301876c1df8');\n",
              "          const dataTable =\n",
              "            await google.colab.kernel.invokeFunction('convertToInteractive',\n",
              "                                                     [key], {});\n",
              "          if (!dataTable) return;\n",
              "\n",
              "          const docLinkHtml = 'Like what you see? Visit the ' +\n",
              "            '<a target=\"_blank\" href=https://colab.research.google.com/notebooks/data_table.ipynb>data table notebook</a>'\n",
              "            + ' to learn more about interactive tables.';\n",
              "          element.innerHTML = '';\n",
              "          dataTable['output_type'] = 'display_data';\n",
              "          await google.colab.output.renderOutput(dataTable, element);\n",
              "          const docLink = document.createElement('div');\n",
              "          docLink.innerHTML = docLinkHtml;\n",
              "          element.appendChild(docLink);\n",
              "        }\n",
              "      </script>\n",
              "    </div>\n",
              "  </div>\n",
              "  "
            ]
          },
          "metadata": {},
          "execution_count": 35
        }
      ]
    },
    {
      "cell_type": "markdown",
      "source": [
        "### Using Tools in Pandas to Answer Questions"
      ],
      "metadata": {
        "id": "ndIIeu68aMkT"
      }
    },
    {
      "cell_type": "markdown",
      "source": [
        "### What percentage of the CEOs in our list are female?"
      ],
      "metadata": {
        "id": "d1DrkLxPabNU"
      }
    },
    {
      "cell_type": "code",
      "source": [
        "# iloc explanation and example\n"
      ],
      "metadata": {
        "id": "hYXJCVZwkMbm"
      },
      "execution_count": 36,
      "outputs": []
    },
    {
      "cell_type": "code",
      "source": [
        "# We use the loc function to index the DataFrame by column and row name\n",
        "# In this example, we also use the value_counts() function\n",
        "# We can get a list of how many of the companies in this dataset had a female CEO in 2020\n",
        "\n",
        "female_ceos = pay_ratio_df.loc[:,\"Female\"].value_counts()\n",
        "female_ceos"
      ],
      "metadata": {
        "id": "A7uyZ_uev27u",
        "colab": {
          "base_uri": "https://localhost:8080/"
        },
        "outputId": "654f053a-ec86-4cb1-c711-837e80eba2f2"
      },
      "execution_count": 37,
      "outputs": [
        {
          "output_type": "execute_result",
          "data": {
            "text/plain": [
              "1.0    122\n",
              "Name: Female, dtype: int64"
            ]
          },
          "metadata": {},
          "execution_count": 37
        }
      ]
    },
    {
      "cell_type": "code",
      "source": [
        "# We can use that same .loc function along with the count function\n",
        "# to get the total number of CEOs\n",
        "\n",
        "total_ceos = pay_ratio_df.loc[:,\"Company\"].count()\n",
        "total_ceos"
      ],
      "metadata": {
        "id": "A_Z05ppYkooT",
        "colab": {
          "base_uri": "https://localhost:8080/"
        },
        "outputId": "16b865b1-0e78-4dd6-931b-7280dfabc745"
      },
      "execution_count": 38,
      "outputs": [
        {
          "output_type": "execute_result",
          "data": {
            "text/plain": [
              "2504"
            ]
          },
          "metadata": {},
          "execution_count": 38
        }
      ]
    },
    {
      "cell_type": "code",
      "source": [
        "# Python allows you to do some basic math without importing any libraries\n",
        "# We can use the / discern the percentage of all CEOs in the dataset that are female\n",
        "\n",
        "percent_female = female_ceos / total_ceos\n",
        "percent_female"
      ],
      "metadata": {
        "id": "eT87C8EmkqbW",
        "colab": {
          "base_uri": "https://localhost:8080/"
        },
        "outputId": "fd0cb8ec-50ad-4ad2-d078-57dba0917ee9"
      },
      "execution_count": 39,
      "outputs": [
        {
          "output_type": "execute_result",
          "data": {
            "text/plain": [
              "1.0    0.048722\n",
              "Name: Female, dtype: float64"
            ]
          },
          "metadata": {},
          "execution_count": 39
        }
      ]
    },
    {
      "cell_type": "markdown",
      "source": [
        "### Which executive had the largest CEO Pay Ratio in 2020?"
      ],
      "metadata": {
        "id": "rRPEP_8rauS4"
      }
    },
    {
      "cell_type": "code",
      "source": [
        "# We can sort the dataset by column using the sort_values() function\n",
        "# We can use the head() function to select how many lines from the top we want returned\n",
        "# Using the print function, we can create a statement that uses the variables we've created\n",
        "\n",
        "largest_ratio = pay_ratio_df.sort_values(by='Pay Ratio', ascending=False)\n",
        "largest_ratio_ceo = largest_ratio.head(1)\n",
        "print(\"The CEO with the largest pay ratio for 2020 is \" + largest_ratio_ceo.iloc[0,1])\n",
        "print(\"with the company \" + largest_ratio_ceo.iloc[0,0])"
      ],
      "metadata": {
        "id": "S2dcf2tXkwBq",
        "colab": {
          "base_uri": "https://localhost:8080/"
        },
        "outputId": "831b666a-83fa-4b4f-ccef-dd0648cafa4b"
      },
      "execution_count": 40,
      "outputs": [
        {
          "output_type": "stream",
          "name": "stdout",
          "text": [
            "The CEO with the largest pay ratio for 2020 is Fran Horowitz\n",
            "with the company Abercrombie & Fitch Co\n"
          ]
        }
      ]
    },
    {
      "cell_type": "markdown",
      "source": [
        "___________________________________________________________________\n",
        "* [12] [Pandas Docs, DataFrame.sort_values](https://pandas.pydata.org/docs/reference/api/pandas.DataFrame.sort_values.html)"
      ],
      "metadata": {
        "id": "-ABLcMp9mWxi"
      }
    },
    {
      "cell_type": "markdown",
      "source": [
        "### What is the Average CEO Pay Ratio for all companies in that Industry in 2020?"
      ],
      "metadata": {
        "id": "zEfN1aribNpB"
      }
    },
    {
      "cell_type": "code",
      "source": [
        "# We can use the iloc[] and loc [] functions to select specific parts of the DataFrame\n",
        "# We can also get the average of a set of values using the mean() function\n",
        "# We will need these values for another exercise later\n",
        "# Let's convert the values generated into a list using the to_list() function\n",
        "\n",
        "industry = largest_ratio_ceo.iloc[0, 32]\n",
        "avg_pay_industry = pay_ratio_df.loc[pay_ratio_df['Industry'] == industry, ['Pay Ratio']]\n",
        "industry_avg = avg_pay_industry.mean()\n",
        "industry_avg_list = industry_avg.to_list()\n",
        "industry_name = largest_ratio_ceo.iloc[0,33]\n",
        "print(\"The average pay ratio for the \" + industry_name + \" industry is \")\n",
        "print(industry_avg_list)"
      ],
      "metadata": {
        "id": "E-sx3gAhk44s",
        "colab": {
          "base_uri": "https://localhost:8080/"
        },
        "outputId": "a8e0ba67-5b36-4d2d-98ca-f19f0e22be62"
      },
      "execution_count": 41,
      "outputs": [
        {
          "output_type": "stream",
          "name": "stdout",
          "text": [
            "The average pay ratio for the Specialty Retail industry is \n",
            "[716.6885931602266]\n"
          ]
        }
      ]
    },
    {
      "cell_type": "markdown",
      "source": [
        "### What is the Average CEO Pay Ratio for each Industry in 2020?"
      ],
      "metadata": {
        "id": "hwWmsI_cb6h3"
      }
    },
    {
      "cell_type": "code",
      "source": [
        "# To get this, there are a few things we will need to do\n",
        "# Let's start with creating a DataFrame with only the industry code and description\n",
        "# We can do this by creating a variable for each, then assignment them as columns in the new DataFrame \n",
        "\n",
        "i1 = pay_ratio_df.loc[:, 'Industry']\n",
        "i2 = pay_ratio_df.loc[:, 'I_Desc']\n",
        "industry_df = pd.DataFrame({\"Industry Code\": i1, \"Industry Description\": i2})\n",
        "industry_df"
      ],
      "metadata": {
        "id": "F5dJKdsAvmwB",
        "colab": {
          "base_uri": "https://localhost:8080/",
          "height": 424
        },
        "outputId": "088c806e-de1f-49b8-d31c-9eef6f2b09dc"
      },
      "execution_count": 42,
      "outputs": [
        {
          "output_type": "execute_result",
          "data": {
            "text/plain": [
              "      Industry Code                Industry Description\n",
              "0          352030.0      Life Sciences Tools & Services\n",
              "1          255020.0  Internet & Direct Marketing Retail\n",
              "2          401010.0                               Banks\n",
              "3          402020.0                    Consumer Finance\n",
              "4          401010.0                               Banks\n",
              "...             ...                                 ...\n",
              "2499       253020.0       Diversified Consumer Services\n",
              "2500       451030.0                            Software\n",
              "2501       255040.0                    Specialty Retail\n",
              "2502       351010.0    Health Care Equipment & Supplies\n",
              "2503       502020.0                       Entertainment\n",
              "\n",
              "[2504 rows x 2 columns]"
            ],
            "text/html": [
              "\n",
              "  <div id=\"df-5b3e078e-1394-484a-a1df-1ae5bd452465\">\n",
              "    <div class=\"colab-df-container\">\n",
              "      <div>\n",
              "<style scoped>\n",
              "    .dataframe tbody tr th:only-of-type {\n",
              "        vertical-align: middle;\n",
              "    }\n",
              "\n",
              "    .dataframe tbody tr th {\n",
              "        vertical-align: top;\n",
              "    }\n",
              "\n",
              "    .dataframe thead th {\n",
              "        text-align: right;\n",
              "    }\n",
              "</style>\n",
              "<table border=\"1\" class=\"dataframe\">\n",
              "  <thead>\n",
              "    <tr style=\"text-align: right;\">\n",
              "      <th></th>\n",
              "      <th>Industry Code</th>\n",
              "      <th>Industry Description</th>\n",
              "    </tr>\n",
              "  </thead>\n",
              "  <tbody>\n",
              "    <tr>\n",
              "      <th>0</th>\n",
              "      <td>352030.0</td>\n",
              "      <td>Life Sciences Tools &amp; Services</td>\n",
              "    </tr>\n",
              "    <tr>\n",
              "      <th>1</th>\n",
              "      <td>255020.0</td>\n",
              "      <td>Internet &amp; Direct Marketing Retail</td>\n",
              "    </tr>\n",
              "    <tr>\n",
              "      <th>2</th>\n",
              "      <td>401010.0</td>\n",
              "      <td>Banks</td>\n",
              "    </tr>\n",
              "    <tr>\n",
              "      <th>3</th>\n",
              "      <td>402020.0</td>\n",
              "      <td>Consumer Finance</td>\n",
              "    </tr>\n",
              "    <tr>\n",
              "      <th>4</th>\n",
              "      <td>401010.0</td>\n",
              "      <td>Banks</td>\n",
              "    </tr>\n",
              "    <tr>\n",
              "      <th>...</th>\n",
              "      <td>...</td>\n",
              "      <td>...</td>\n",
              "    </tr>\n",
              "    <tr>\n",
              "      <th>2499</th>\n",
              "      <td>253020.0</td>\n",
              "      <td>Diversified Consumer Services</td>\n",
              "    </tr>\n",
              "    <tr>\n",
              "      <th>2500</th>\n",
              "      <td>451030.0</td>\n",
              "      <td>Software</td>\n",
              "    </tr>\n",
              "    <tr>\n",
              "      <th>2501</th>\n",
              "      <td>255040.0</td>\n",
              "      <td>Specialty Retail</td>\n",
              "    </tr>\n",
              "    <tr>\n",
              "      <th>2502</th>\n",
              "      <td>351010.0</td>\n",
              "      <td>Health Care Equipment &amp; Supplies</td>\n",
              "    </tr>\n",
              "    <tr>\n",
              "      <th>2503</th>\n",
              "      <td>502020.0</td>\n",
              "      <td>Entertainment</td>\n",
              "    </tr>\n",
              "  </tbody>\n",
              "</table>\n",
              "<p>2504 rows × 2 columns</p>\n",
              "</div>\n",
              "      <button class=\"colab-df-convert\" onclick=\"convertToInteractive('df-5b3e078e-1394-484a-a1df-1ae5bd452465')\"\n",
              "              title=\"Convert this dataframe to an interactive table.\"\n",
              "              style=\"display:none;\">\n",
              "        \n",
              "  <svg xmlns=\"http://www.w3.org/2000/svg\" height=\"24px\"viewBox=\"0 0 24 24\"\n",
              "       width=\"24px\">\n",
              "    <path d=\"M0 0h24v24H0V0z\" fill=\"none\"/>\n",
              "    <path d=\"M18.56 5.44l.94 2.06.94-2.06 2.06-.94-2.06-.94-.94-2.06-.94 2.06-2.06.94zm-11 1L8.5 8.5l.94-2.06 2.06-.94-2.06-.94L8.5 2.5l-.94 2.06-2.06.94zm10 10l.94 2.06.94-2.06 2.06-.94-2.06-.94-.94-2.06-.94 2.06-2.06.94z\"/><path d=\"M17.41 7.96l-1.37-1.37c-.4-.4-.92-.59-1.43-.59-.52 0-1.04.2-1.43.59L10.3 9.45l-7.72 7.72c-.78.78-.78 2.05 0 2.83L4 21.41c.39.39.9.59 1.41.59.51 0 1.02-.2 1.41-.59l7.78-7.78 2.81-2.81c.8-.78.8-2.07 0-2.86zM5.41 20L4 18.59l7.72-7.72 1.47 1.35L5.41 20z\"/>\n",
              "  </svg>\n",
              "      </button>\n",
              "      \n",
              "  <style>\n",
              "    .colab-df-container {\n",
              "      display:flex;\n",
              "      flex-wrap:wrap;\n",
              "      gap: 12px;\n",
              "    }\n",
              "\n",
              "    .colab-df-convert {\n",
              "      background-color: #E8F0FE;\n",
              "      border: none;\n",
              "      border-radius: 50%;\n",
              "      cursor: pointer;\n",
              "      display: none;\n",
              "      fill: #1967D2;\n",
              "      height: 32px;\n",
              "      padding: 0 0 0 0;\n",
              "      width: 32px;\n",
              "    }\n",
              "\n",
              "    .colab-df-convert:hover {\n",
              "      background-color: #E2EBFA;\n",
              "      box-shadow: 0px 1px 2px rgba(60, 64, 67, 0.3), 0px 1px 3px 1px rgba(60, 64, 67, 0.15);\n",
              "      fill: #174EA6;\n",
              "    }\n",
              "\n",
              "    [theme=dark] .colab-df-convert {\n",
              "      background-color: #3B4455;\n",
              "      fill: #D2E3FC;\n",
              "    }\n",
              "\n",
              "    [theme=dark] .colab-df-convert:hover {\n",
              "      background-color: #434B5C;\n",
              "      box-shadow: 0px 1px 3px 1px rgba(0, 0, 0, 0.15);\n",
              "      filter: drop-shadow(0px 1px 2px rgba(0, 0, 0, 0.3));\n",
              "      fill: #FFFFFF;\n",
              "    }\n",
              "  </style>\n",
              "\n",
              "      <script>\n",
              "        const buttonEl =\n",
              "          document.querySelector('#df-5b3e078e-1394-484a-a1df-1ae5bd452465 button.colab-df-convert');\n",
              "        buttonEl.style.display =\n",
              "          google.colab.kernel.accessAllowed ? 'block' : 'none';\n",
              "\n",
              "        async function convertToInteractive(key) {\n",
              "          const element = document.querySelector('#df-5b3e078e-1394-484a-a1df-1ae5bd452465');\n",
              "          const dataTable =\n",
              "            await google.colab.kernel.invokeFunction('convertToInteractive',\n",
              "                                                     [key], {});\n",
              "          if (!dataTable) return;\n",
              "\n",
              "          const docLinkHtml = 'Like what you see? Visit the ' +\n",
              "            '<a target=\"_blank\" href=https://colab.research.google.com/notebooks/data_table.ipynb>data table notebook</a>'\n",
              "            + ' to learn more about interactive tables.';\n",
              "          element.innerHTML = '';\n",
              "          dataTable['output_type'] = 'display_data';\n",
              "          await google.colab.output.renderOutput(dataTable, element);\n",
              "          const docLink = document.createElement('div');\n",
              "          docLink.innerHTML = docLinkHtml;\n",
              "          element.appendChild(docLink);\n",
              "        }\n",
              "      </script>\n",
              "    </div>\n",
              "  </div>\n",
              "  "
            ]
          },
          "metadata": {},
          "execution_count": 42
        }
      ]
    },
    {
      "cell_type": "code",
      "source": [
        "# We can get a list of unique industry codes by using the drop_duplicates() and sort_values() functions\n",
        "\n",
        "unique_codes = industry_df[\"Industry Code\"].drop_duplicates().sort_values()"
      ],
      "metadata": {
        "id": "m7S6q9vjhmJe"
      },
      "execution_count": 43,
      "outputs": []
    },
    {
      "cell_type": "code",
      "source": [
        "# Let's create a list type for this dataset \n",
        "\n",
        "unique_code_list = unique_codes.to_list()\n",
        "unique_code_list"
      ],
      "metadata": {
        "id": "Z_ZqNsfn7sGU",
        "colab": {
          "base_uri": "https://localhost:8080/"
        },
        "outputId": "03fefa55-b80b-45e3-a121-83ef94cc7e99"
      },
      "execution_count": 44,
      "outputs": [
        {
          "output_type": "execute_result",
          "data": {
            "text/plain": [
              "[101010.0,\n",
              " 101020.0,\n",
              " 151010.0,\n",
              " 151020.0,\n",
              " 151030.0,\n",
              " 151040.0,\n",
              " 151050.0,\n",
              " 201010.0,\n",
              " 201020.0,\n",
              " 201030.0,\n",
              " 201040.0,\n",
              " 201050.0,\n",
              " 201060.0,\n",
              " 201070.0,\n",
              " 202010.0,\n",
              " 202020.0,\n",
              " 203010.0,\n",
              " 203020.0,\n",
              " 203030.0,\n",
              " 203040.0,\n",
              " 203050.0,\n",
              " 251010.0,\n",
              " 251020.0,\n",
              " 252010.0,\n",
              " 252020.0,\n",
              " 252030.0,\n",
              " 253010.0,\n",
              " 253020.0,\n",
              " 255010.0,\n",
              " 255020.0,\n",
              " 255030.0,\n",
              " 255040.0,\n",
              " 301010.0,\n",
              " 302010.0,\n",
              " 302020.0,\n",
              " 302030.0,\n",
              " 303010.0,\n",
              " 303020.0,\n",
              " 351010.0,\n",
              " 351020.0,\n",
              " 351030.0,\n",
              " 352010.0,\n",
              " 352020.0,\n",
              " 352030.0,\n",
              " 401010.0,\n",
              " 401020.0,\n",
              " 402010.0,\n",
              " 402020.0,\n",
              " 402030.0,\n",
              " 402040.0,\n",
              " 403010.0,\n",
              " 451020.0,\n",
              " 451030.0,\n",
              " 452010.0,\n",
              " 452020.0,\n",
              " 452030.0,\n",
              " 453010.0,\n",
              " 501010.0,\n",
              " 501020.0,\n",
              " 502010.0,\n",
              " 502020.0,\n",
              " 502030.0,\n",
              " 551010.0,\n",
              " 551020.0,\n",
              " 551030.0,\n",
              " 551040.0,\n",
              " 551050.0,\n",
              " 601010.0,\n",
              " 601020.0,\n",
              " nan]"
            ]
          },
          "metadata": {},
          "execution_count": 44
        }
      ]
    },
    {
      "cell_type": "code",
      "source": [
        "# We can create a list of unique industry descriptions using the same function as above\n",
        "\n",
        "unique_industry = industry_df['Industry Description'].drop_duplicates().sort_values()\n",
        "unique_industry_list = unique_industry.to_list()"
      ],
      "metadata": {
        "id": "gWOyK_117t7T"
      },
      "execution_count": 45,
      "outputs": []
    },
    {
      "cell_type": "markdown",
      "source": [
        "#### Using For Loops\n",
        "\n",
        "We can use a `for` loop to answer the rest of this question.\n",
        "\n",
        "For loops generally follow the syntax below:\n",
        "```python\n",
        "for item in items:           # The first line must end in :\n",
        "  do something             # subsequent lines must be indented\n",
        "```\n"
      ],
      "metadata": {
        "id": "w4BNuD5fdpE_"
      }
    },
    {
      "cell_type": "code",
      "source": [
        "# Let's loop through our unique_industry_list\n",
        "\n",
        "for industry in unique_industry_list:\n",
        "  y = pay_ratio_df.loc[pay_ratio_df.loc[:, 'I_Desc'] == industry]\n",
        "  z = y.loc[:,'Pay Ratio'].mean()\n",
        "  a = str(industry)\n",
        "  print(str(\"The average pay ratio for the \") + a + str(\" industry is \"))\n",
        "  print(z)"
      ],
      "metadata": {
        "id": "zMjrXg14-_lY",
        "colab": {
          "base_uri": "https://localhost:8080/"
        },
        "outputId": "e2a95eea-5db5-4eb5-b079-51fdec52b650"
      },
      "execution_count": 46,
      "outputs": [
        {
          "output_type": "stream",
          "name": "stdout",
          "text": [
            "The average pay ratio for the Aerospace & Defense industry is \n",
            "128.384213799967\n",
            "The average pay ratio for the Air Freight & Logistics industry is \n",
            "175.58877648716282\n",
            "The average pay ratio for the Airlines industry is \n",
            "98.41534498369516\n",
            "The average pay ratio for the Auto Components industry is \n",
            "564.0053129012475\n",
            "The average pay ratio for the Automobiles industry is \n",
            "119.76813538354095\n",
            "The average pay ratio for the Banks industry is \n",
            "56.37344015693448\n",
            "The average pay ratio for the Beverages industry is \n",
            "315.2399120927953\n",
            "The average pay ratio for the Biotechnology industry is \n",
            "49.000840022893854\n",
            "The average pay ratio for the Building Products industry is \n",
            "137.14566240467698\n",
            "The average pay ratio for the Capital Markets industry is \n",
            "94.8710914176916\n",
            "The average pay ratio for the Chemicals industry is \n",
            "107.462141003061\n",
            "The average pay ratio for the Commercial Services & Supplies industry is \n",
            "146.3321468557383\n",
            "The average pay ratio for the Communications Equipment industry is \n",
            "126.8576241703115\n",
            "The average pay ratio for the Construction & Engineering industry is \n",
            "84.80762097395431\n",
            "The average pay ratio for the Construction Materials industry is \n",
            "87.74471988559308\n",
            "The average pay ratio for the Consumer Finance industry is \n",
            "180.85299150827063\n",
            "The average pay ratio for the Containers & Packaging industry is \n",
            "215.98176819405177\n",
            "The average pay ratio for the Distributors industry is \n",
            "139.595035585127\n",
            "The average pay ratio for the Diversified Consumer Services industry is \n",
            "221.71328963830365\n",
            "The average pay ratio for the Diversified Financial Services industry is \n",
            "52.772174242718386\n",
            "The average pay ratio for the Diversified Telecommunication Services industry is \n",
            "101.8028590404439\n",
            "The average pay ratio for the Electric Utilities industry is \n",
            "59.26396727421969\n",
            "The average pay ratio for the Electrical Equipment industry is \n",
            "241.45470821348647\n",
            "The average pay ratio for the Electronic Equipment, Instruments & Components industry is \n",
            "309.72738098327574\n",
            "The average pay ratio for the Energy Equipment & Services industry is \n",
            "84.68367394530726\n",
            "The average pay ratio for the Entertainment industry is \n",
            "557.5902566743201\n",
            "The average pay ratio for the Equity REITs industry is \n",
            "79.14648911017608\n",
            "The average pay ratio for the Food & Staples Retailing industry is \n",
            "325.97366551881316\n",
            "The average pay ratio for the Food Products industry is \n",
            "197.98367162239015\n",
            "The average pay ratio for the Gas Utilities industry is \n",
            "54.14866170634439\n",
            "The average pay ratio for the Health Care Equipment & Supplies industry is \n",
            "128.83363454435795\n",
            "The average pay ratio for the Health Care Providers & Services industry is \n",
            "206.04300046376477\n",
            "The average pay ratio for the Health Care Technology industry is \n",
            "61.61936002728351\n",
            "The average pay ratio for the Hotels, Restaurants & Leisure industry is \n",
            "471.7869593947059\n",
            "The average pay ratio for the Household Durables industry is \n",
            "127.21855357846601\n",
            "The average pay ratio for the Household Products industry is \n",
            "335.50270906835243\n",
            "The average pay ratio for the IT Services industry is \n",
            "173.76687028175928\n",
            "The average pay ratio for the Independent Power and Renewable Electricity Producers industry is \n",
            "69.06217032829396\n",
            "The average pay ratio for the Industrial Conglomerates industry is \n",
            "398.55711142539764\n",
            "The average pay ratio for the Insurance industry is \n",
            "94.82798667469949\n",
            "The average pay ratio for the Interactive Media & Services industry is \n",
            "57.35381569658509\n",
            "The average pay ratio for the Internet & Direct Marketing Retail industry is \n",
            "141.0036025071429\n",
            "The average pay ratio for the Leisure Products industry is \n",
            "265.6394917956692\n",
            "The average pay ratio for the Life Sciences Tools & Services industry is \n",
            "149.26789871730213\n",
            "The average pay ratio for the Machinery industry is \n",
            "134.96937428643682\n",
            "The average pay ratio for the Marine industry is \n",
            "48.18144812575086\n",
            "The average pay ratio for the Media industry is \n",
            "210.64578661849228\n",
            "The average pay ratio for the Metals & Mining industry is \n",
            "73.98742311658937\n",
            "The average pay ratio for the Mortgage REITs industry is \n",
            "29.078840508029536\n",
            "The average pay ratio for the Multi-Utilities industry is \n",
            "71.89554825272265\n",
            "The average pay ratio for the Multiline Retail industry is \n",
            "599.3084214578915\n",
            "The average pay ratio for the Oil, Gas & Consumable Fuels industry is \n",
            "59.03569350979506\n",
            "The average pay ratio for the Paper & Forest Products industry is \n",
            "73.32434054329654\n",
            "The average pay ratio for the Personal Products industry is \n",
            "209.55227753727175\n",
            "The average pay ratio for the Pharmaceuticals industry is \n",
            "199.70226705366204\n",
            "The average pay ratio for the Professional Services industry is \n",
            "166.5759399726277\n",
            "The average pay ratio for the Real Estate Management & Development industry is \n",
            "73.96500869397134\n",
            "The average pay ratio for the Road & Rail industry is \n",
            "86.58299068272315\n",
            "The average pay ratio for the Semiconductors & Semiconductor Equipment industry is \n",
            "152.44672170751474\n",
            "The average pay ratio for the Software industry is \n",
            "133.05600426322653\n",
            "The average pay ratio for the Specialty Retail industry is \n",
            "716.6885931602266\n",
            "The average pay ratio for the Technology Hardware, Storage & Peripherals industry is \n",
            "474.2267900835519\n",
            "The average pay ratio for the Textiles, Apparel & Luxury Goods industry is \n",
            "632.1254024075687\n",
            "The average pay ratio for the Thrifts & Mortgage Finance industry is \n",
            "49.51637096065167\n",
            "The average pay ratio for the Tobacco industry is \n",
            "780.5924900796762\n",
            "The average pay ratio for the Trading Companies & Distributors industry is \n",
            "75.6924496501182\n",
            "The average pay ratio for the Transportation Infrastructure industry is \n",
            "65.20051557674068\n",
            "The average pay ratio for the Water Utilities industry is \n",
            "35.33492111187493\n",
            "The average pay ratio for the Wireless Telecommunication Services industry is \n",
            "164.52831638700025\n",
            "The average pay ratio for the nan industry is \n",
            "nan\n"
          ]
        }
      ]
    },
    {
      "cell_type": "code",
      "source": [
        "# We can also use the for loop to add items to a list\n",
        "# We can turn this list into a new DataFrame to perform further analaysis\n",
        "# To start, let's create a blank list called pr_ind\n",
        "# We can use the append() function to add items to our list\n",
        "\n",
        "pr_ind = []\n",
        "for industry in unique_industry_list:\n",
        "  y = pay_ratio_df.loc[pay_ratio_df.loc[:, 'I_Desc'] == industry]\n",
        "  z = y.loc[:,'Pay Ratio'].mean()\n",
        "  a = str(industry)\n",
        "  pr_ind.append({'average_pay': z, 'Industry': a})\n",
        "\n",
        "industry_pay_ratio_df = pd.DataFrame(pr_ind)\n",
        "industry_pay_ratio_df"
      ],
      "metadata": {
        "id": "tN6AqBeVEmsF",
        "colab": {
          "base_uri": "https://localhost:8080/",
          "height": 424
        },
        "outputId": "2b5f0c50-fab6-4257-ea0f-adbcd7726208"
      },
      "execution_count": 47,
      "outputs": [
        {
          "output_type": "execute_result",
          "data": {
            "text/plain": [
              "    average_pay                             Industry\n",
              "0    128.384214                  Aerospace & Defense\n",
              "1    175.588776              Air Freight & Logistics\n",
              "2     98.415345                             Airlines\n",
              "3    564.005313                      Auto Components\n",
              "4    119.768135                          Automobiles\n",
              "..          ...                                  ...\n",
              "65    75.692450     Trading Companies & Distributors\n",
              "66    65.200516        Transportation Infrastructure\n",
              "67    35.334921                      Water Utilities\n",
              "68   164.528316  Wireless Telecommunication Services\n",
              "69          NaN                                  nan\n",
              "\n",
              "[70 rows x 2 columns]"
            ],
            "text/html": [
              "\n",
              "  <div id=\"df-e131c99e-2106-4fb0-873b-1c45b6b0b9f1\">\n",
              "    <div class=\"colab-df-container\">\n",
              "      <div>\n",
              "<style scoped>\n",
              "    .dataframe tbody tr th:only-of-type {\n",
              "        vertical-align: middle;\n",
              "    }\n",
              "\n",
              "    .dataframe tbody tr th {\n",
              "        vertical-align: top;\n",
              "    }\n",
              "\n",
              "    .dataframe thead th {\n",
              "        text-align: right;\n",
              "    }\n",
              "</style>\n",
              "<table border=\"1\" class=\"dataframe\">\n",
              "  <thead>\n",
              "    <tr style=\"text-align: right;\">\n",
              "      <th></th>\n",
              "      <th>average_pay</th>\n",
              "      <th>Industry</th>\n",
              "    </tr>\n",
              "  </thead>\n",
              "  <tbody>\n",
              "    <tr>\n",
              "      <th>0</th>\n",
              "      <td>128.384214</td>\n",
              "      <td>Aerospace &amp; Defense</td>\n",
              "    </tr>\n",
              "    <tr>\n",
              "      <th>1</th>\n",
              "      <td>175.588776</td>\n",
              "      <td>Air Freight &amp; Logistics</td>\n",
              "    </tr>\n",
              "    <tr>\n",
              "      <th>2</th>\n",
              "      <td>98.415345</td>\n",
              "      <td>Airlines</td>\n",
              "    </tr>\n",
              "    <tr>\n",
              "      <th>3</th>\n",
              "      <td>564.005313</td>\n",
              "      <td>Auto Components</td>\n",
              "    </tr>\n",
              "    <tr>\n",
              "      <th>4</th>\n",
              "      <td>119.768135</td>\n",
              "      <td>Automobiles</td>\n",
              "    </tr>\n",
              "    <tr>\n",
              "      <th>...</th>\n",
              "      <td>...</td>\n",
              "      <td>...</td>\n",
              "    </tr>\n",
              "    <tr>\n",
              "      <th>65</th>\n",
              "      <td>75.692450</td>\n",
              "      <td>Trading Companies &amp; Distributors</td>\n",
              "    </tr>\n",
              "    <tr>\n",
              "      <th>66</th>\n",
              "      <td>65.200516</td>\n",
              "      <td>Transportation Infrastructure</td>\n",
              "    </tr>\n",
              "    <tr>\n",
              "      <th>67</th>\n",
              "      <td>35.334921</td>\n",
              "      <td>Water Utilities</td>\n",
              "    </tr>\n",
              "    <tr>\n",
              "      <th>68</th>\n",
              "      <td>164.528316</td>\n",
              "      <td>Wireless Telecommunication Services</td>\n",
              "    </tr>\n",
              "    <tr>\n",
              "      <th>69</th>\n",
              "      <td>NaN</td>\n",
              "      <td>nan</td>\n",
              "    </tr>\n",
              "  </tbody>\n",
              "</table>\n",
              "<p>70 rows × 2 columns</p>\n",
              "</div>\n",
              "      <button class=\"colab-df-convert\" onclick=\"convertToInteractive('df-e131c99e-2106-4fb0-873b-1c45b6b0b9f1')\"\n",
              "              title=\"Convert this dataframe to an interactive table.\"\n",
              "              style=\"display:none;\">\n",
              "        \n",
              "  <svg xmlns=\"http://www.w3.org/2000/svg\" height=\"24px\"viewBox=\"0 0 24 24\"\n",
              "       width=\"24px\">\n",
              "    <path d=\"M0 0h24v24H0V0z\" fill=\"none\"/>\n",
              "    <path d=\"M18.56 5.44l.94 2.06.94-2.06 2.06-.94-2.06-.94-.94-2.06-.94 2.06-2.06.94zm-11 1L8.5 8.5l.94-2.06 2.06-.94-2.06-.94L8.5 2.5l-.94 2.06-2.06.94zm10 10l.94 2.06.94-2.06 2.06-.94-2.06-.94-.94-2.06-.94 2.06-2.06.94z\"/><path d=\"M17.41 7.96l-1.37-1.37c-.4-.4-.92-.59-1.43-.59-.52 0-1.04.2-1.43.59L10.3 9.45l-7.72 7.72c-.78.78-.78 2.05 0 2.83L4 21.41c.39.39.9.59 1.41.59.51 0 1.02-.2 1.41-.59l7.78-7.78 2.81-2.81c.8-.78.8-2.07 0-2.86zM5.41 20L4 18.59l7.72-7.72 1.47 1.35L5.41 20z\"/>\n",
              "  </svg>\n",
              "      </button>\n",
              "      \n",
              "  <style>\n",
              "    .colab-df-container {\n",
              "      display:flex;\n",
              "      flex-wrap:wrap;\n",
              "      gap: 12px;\n",
              "    }\n",
              "\n",
              "    .colab-df-convert {\n",
              "      background-color: #E8F0FE;\n",
              "      border: none;\n",
              "      border-radius: 50%;\n",
              "      cursor: pointer;\n",
              "      display: none;\n",
              "      fill: #1967D2;\n",
              "      height: 32px;\n",
              "      padding: 0 0 0 0;\n",
              "      width: 32px;\n",
              "    }\n",
              "\n",
              "    .colab-df-convert:hover {\n",
              "      background-color: #E2EBFA;\n",
              "      box-shadow: 0px 1px 2px rgba(60, 64, 67, 0.3), 0px 1px 3px 1px rgba(60, 64, 67, 0.15);\n",
              "      fill: #174EA6;\n",
              "    }\n",
              "\n",
              "    [theme=dark] .colab-df-convert {\n",
              "      background-color: #3B4455;\n",
              "      fill: #D2E3FC;\n",
              "    }\n",
              "\n",
              "    [theme=dark] .colab-df-convert:hover {\n",
              "      background-color: #434B5C;\n",
              "      box-shadow: 0px 1px 3px 1px rgba(0, 0, 0, 0.15);\n",
              "      filter: drop-shadow(0px 1px 2px rgba(0, 0, 0, 0.3));\n",
              "      fill: #FFFFFF;\n",
              "    }\n",
              "  </style>\n",
              "\n",
              "      <script>\n",
              "        const buttonEl =\n",
              "          document.querySelector('#df-e131c99e-2106-4fb0-873b-1c45b6b0b9f1 button.colab-df-convert');\n",
              "        buttonEl.style.display =\n",
              "          google.colab.kernel.accessAllowed ? 'block' : 'none';\n",
              "\n",
              "        async function convertToInteractive(key) {\n",
              "          const element = document.querySelector('#df-e131c99e-2106-4fb0-873b-1c45b6b0b9f1');\n",
              "          const dataTable =\n",
              "            await google.colab.kernel.invokeFunction('convertToInteractive',\n",
              "                                                     [key], {});\n",
              "          if (!dataTable) return;\n",
              "\n",
              "          const docLinkHtml = 'Like what you see? Visit the ' +\n",
              "            '<a target=\"_blank\" href=https://colab.research.google.com/notebooks/data_table.ipynb>data table notebook</a>'\n",
              "            + ' to learn more about interactive tables.';\n",
              "          element.innerHTML = '';\n",
              "          dataTable['output_type'] = 'display_data';\n",
              "          await google.colab.output.renderOutput(dataTable, element);\n",
              "          const docLink = document.createElement('div');\n",
              "          docLink.innerHTML = docLinkHtml;\n",
              "          element.appendChild(docLink);\n",
              "        }\n",
              "      </script>\n",
              "    </div>\n",
              "  </div>\n",
              "  "
            ]
          },
          "metadata": {},
          "execution_count": 47
        }
      ]
    },
    {
      "cell_type": "code",
      "source": [
        " # Rank them in descending order.\n",
        " \n",
        " descending_industry_pay = industry_pay_ratio_df.sort_values(by='average_pay', ascending=False)\n",
        " descending_industry_pay"
      ],
      "metadata": {
        "id": "9_ALvdjNhP8u",
        "colab": {
          "base_uri": "https://localhost:8080/",
          "height": 424
        },
        "outputId": "1d381282-3456-4944-a054-56dfbebe40f3"
      },
      "execution_count": 48,
      "outputs": [
        {
          "output_type": "execute_result",
          "data": {
            "text/plain": [
              "    average_pay                          Industry\n",
              "64   780.592490                           Tobacco\n",
              "60   716.688593                  Specialty Retail\n",
              "62   632.125402  Textiles, Apparel & Luxury Goods\n",
              "50   599.308421                  Multiline Retail\n",
              "3    564.005313                   Auto Components\n",
              "..          ...                               ...\n",
              "7     49.000840                     Biotechnology\n",
              "45    48.181448                            Marine\n",
              "67    35.334921                   Water Utilities\n",
              "48    29.078841                    Mortgage REITs\n",
              "69          NaN                               nan\n",
              "\n",
              "[70 rows x 2 columns]"
            ],
            "text/html": [
              "\n",
              "  <div id=\"df-559a0b6c-b86b-42db-b0c9-0bfd850fafc9\">\n",
              "    <div class=\"colab-df-container\">\n",
              "      <div>\n",
              "<style scoped>\n",
              "    .dataframe tbody tr th:only-of-type {\n",
              "        vertical-align: middle;\n",
              "    }\n",
              "\n",
              "    .dataframe tbody tr th {\n",
              "        vertical-align: top;\n",
              "    }\n",
              "\n",
              "    .dataframe thead th {\n",
              "        text-align: right;\n",
              "    }\n",
              "</style>\n",
              "<table border=\"1\" class=\"dataframe\">\n",
              "  <thead>\n",
              "    <tr style=\"text-align: right;\">\n",
              "      <th></th>\n",
              "      <th>average_pay</th>\n",
              "      <th>Industry</th>\n",
              "    </tr>\n",
              "  </thead>\n",
              "  <tbody>\n",
              "    <tr>\n",
              "      <th>64</th>\n",
              "      <td>780.592490</td>\n",
              "      <td>Tobacco</td>\n",
              "    </tr>\n",
              "    <tr>\n",
              "      <th>60</th>\n",
              "      <td>716.688593</td>\n",
              "      <td>Specialty Retail</td>\n",
              "    </tr>\n",
              "    <tr>\n",
              "      <th>62</th>\n",
              "      <td>632.125402</td>\n",
              "      <td>Textiles, Apparel &amp; Luxury Goods</td>\n",
              "    </tr>\n",
              "    <tr>\n",
              "      <th>50</th>\n",
              "      <td>599.308421</td>\n",
              "      <td>Multiline Retail</td>\n",
              "    </tr>\n",
              "    <tr>\n",
              "      <th>3</th>\n",
              "      <td>564.005313</td>\n",
              "      <td>Auto Components</td>\n",
              "    </tr>\n",
              "    <tr>\n",
              "      <th>...</th>\n",
              "      <td>...</td>\n",
              "      <td>...</td>\n",
              "    </tr>\n",
              "    <tr>\n",
              "      <th>7</th>\n",
              "      <td>49.000840</td>\n",
              "      <td>Biotechnology</td>\n",
              "    </tr>\n",
              "    <tr>\n",
              "      <th>45</th>\n",
              "      <td>48.181448</td>\n",
              "      <td>Marine</td>\n",
              "    </tr>\n",
              "    <tr>\n",
              "      <th>67</th>\n",
              "      <td>35.334921</td>\n",
              "      <td>Water Utilities</td>\n",
              "    </tr>\n",
              "    <tr>\n",
              "      <th>48</th>\n",
              "      <td>29.078841</td>\n",
              "      <td>Mortgage REITs</td>\n",
              "    </tr>\n",
              "    <tr>\n",
              "      <th>69</th>\n",
              "      <td>NaN</td>\n",
              "      <td>nan</td>\n",
              "    </tr>\n",
              "  </tbody>\n",
              "</table>\n",
              "<p>70 rows × 2 columns</p>\n",
              "</div>\n",
              "      <button class=\"colab-df-convert\" onclick=\"convertToInteractive('df-559a0b6c-b86b-42db-b0c9-0bfd850fafc9')\"\n",
              "              title=\"Convert this dataframe to an interactive table.\"\n",
              "              style=\"display:none;\">\n",
              "        \n",
              "  <svg xmlns=\"http://www.w3.org/2000/svg\" height=\"24px\"viewBox=\"0 0 24 24\"\n",
              "       width=\"24px\">\n",
              "    <path d=\"M0 0h24v24H0V0z\" fill=\"none\"/>\n",
              "    <path d=\"M18.56 5.44l.94 2.06.94-2.06 2.06-.94-2.06-.94-.94-2.06-.94 2.06-2.06.94zm-11 1L8.5 8.5l.94-2.06 2.06-.94-2.06-.94L8.5 2.5l-.94 2.06-2.06.94zm10 10l.94 2.06.94-2.06 2.06-.94-2.06-.94-.94-2.06-.94 2.06-2.06.94z\"/><path d=\"M17.41 7.96l-1.37-1.37c-.4-.4-.92-.59-1.43-.59-.52 0-1.04.2-1.43.59L10.3 9.45l-7.72 7.72c-.78.78-.78 2.05 0 2.83L4 21.41c.39.39.9.59 1.41.59.51 0 1.02-.2 1.41-.59l7.78-7.78 2.81-2.81c.8-.78.8-2.07 0-2.86zM5.41 20L4 18.59l7.72-7.72 1.47 1.35L5.41 20z\"/>\n",
              "  </svg>\n",
              "      </button>\n",
              "      \n",
              "  <style>\n",
              "    .colab-df-container {\n",
              "      display:flex;\n",
              "      flex-wrap:wrap;\n",
              "      gap: 12px;\n",
              "    }\n",
              "\n",
              "    .colab-df-convert {\n",
              "      background-color: #E8F0FE;\n",
              "      border: none;\n",
              "      border-radius: 50%;\n",
              "      cursor: pointer;\n",
              "      display: none;\n",
              "      fill: #1967D2;\n",
              "      height: 32px;\n",
              "      padding: 0 0 0 0;\n",
              "      width: 32px;\n",
              "    }\n",
              "\n",
              "    .colab-df-convert:hover {\n",
              "      background-color: #E2EBFA;\n",
              "      box-shadow: 0px 1px 2px rgba(60, 64, 67, 0.3), 0px 1px 3px 1px rgba(60, 64, 67, 0.15);\n",
              "      fill: #174EA6;\n",
              "    }\n",
              "\n",
              "    [theme=dark] .colab-df-convert {\n",
              "      background-color: #3B4455;\n",
              "      fill: #D2E3FC;\n",
              "    }\n",
              "\n",
              "    [theme=dark] .colab-df-convert:hover {\n",
              "      background-color: #434B5C;\n",
              "      box-shadow: 0px 1px 3px 1px rgba(0, 0, 0, 0.15);\n",
              "      filter: drop-shadow(0px 1px 2px rgba(0, 0, 0, 0.3));\n",
              "      fill: #FFFFFF;\n",
              "    }\n",
              "  </style>\n",
              "\n",
              "      <script>\n",
              "        const buttonEl =\n",
              "          document.querySelector('#df-559a0b6c-b86b-42db-b0c9-0bfd850fafc9 button.colab-df-convert');\n",
              "        buttonEl.style.display =\n",
              "          google.colab.kernel.accessAllowed ? 'block' : 'none';\n",
              "\n",
              "        async function convertToInteractive(key) {\n",
              "          const element = document.querySelector('#df-559a0b6c-b86b-42db-b0c9-0bfd850fafc9');\n",
              "          const dataTable =\n",
              "            await google.colab.kernel.invokeFunction('convertToInteractive',\n",
              "                                                     [key], {});\n",
              "          if (!dataTable) return;\n",
              "\n",
              "          const docLinkHtml = 'Like what you see? Visit the ' +\n",
              "            '<a target=\"_blank\" href=https://colab.research.google.com/notebooks/data_table.ipynb>data table notebook</a>'\n",
              "            + ' to learn more about interactive tables.';\n",
              "          element.innerHTML = '';\n",
              "          dataTable['output_type'] = 'display_data';\n",
              "          await google.colab.output.renderOutput(dataTable, element);\n",
              "          const docLink = document.createElement('div');\n",
              "          docLink.innerHTML = docLinkHtml;\n",
              "          element.appendChild(docLink);\n",
              "        }\n",
              "      </script>\n",
              "    </div>\n",
              "  </div>\n",
              "  "
            ]
          },
          "metadata": {},
          "execution_count": 48
        }
      ]
    },
    {
      "cell_type": "markdown",
      "source": [
        "___________________________________________________________________\n",
        "* [12] [Pandas Docs, DataFrame.sort_values](https://pandas.pydata.org/docs/reference/api/pandas.DataFrame.sort_values.html)\n",
        "\n",
        "* [13] [Python Data Science Handbook](https://jakevdp.github.io/PythonDataScienceHandbook/) by Jake VanderPlas\n",
        "\n",
        "* [14] [Pandas Docs: DataFrame](https://pandas.pydata.org/docs/reference/api/pandas.DataFrame.html#pandas.DataFrame)\n",
        "\n",
        "* [4] [Programming with Python: Python Fundamentals](https://swcarpentry.github.io/python-novice-inflammation/01-intro/index.html) by The Carpentries. [CC-BY-4.0](https://creativecommons.org/licenses/by/4.0/)\n",
        "\n",
        "* [15] [Python: Programming and Fundamentals](https://github.com/ualibweb/UALIB_Workshops/blob/master/04_Python_spring_2022/03_Python_Plotting_and_Data.ipynb)by Vincent Scalfani and UA Libraries. [MIT License](https://github.com/ualibweb/UALIB_Workshops/blob/master/LICENSE)\n",
        "\n",
        "* [16] [Stack Overflow: How to Select Rows form a DataFrame Based on Column Values](https://stackoverflow.com/questions/17071871/how-to-select-rows-from-a-dataframe-based-on-column-values)\n",
        "\n",
        "* [17] [Stack Overflow: How to Filter Rows Containing a String Pattern from a Pandas DataFrame](https://stackoverflow.com/questions/27975069/how-to-filter-rows-containing-a-string-pattern-from-a-pandas-dataframe)\n",
        "\n",
        "* [18] [Pandas Docs: User Guide, Indexing](https://pandas.pydata.org/pandas-docs/stable/user_guide/indexing.html)"
      ],
      "metadata": {
        "id": "ydijOIJQpbJV"
      }
    },
    {
      "cell_type": "markdown",
      "source": [
        "# **Evaluation**\n",
        "___________________________________________________________________\n",
        "\n",
        "We're excited to be able to offer more workshops like this in the future. Please take a quick moment to complete this brief [evaluation of today's program and survey](https://universityofalabama.az1.qualtrics.com/jfe/form/SV_3DEAzHkcFV3PYyh)"
      ],
      "metadata": {
        "id": "m2NEQVMbBw-D"
      }
    },
    {
      "cell_type": "markdown",
      "source": [
        "# **Resources**\n",
        "___________________________________________________________________\n",
        "\n",
        "## UA Libraries Resources\n",
        "*   [Python Resource Guide](https://guides.lib.ua.edu/python)\n",
        "*   [Informatics Resource Guide](https://guides.lib.ua.edu/informatics)\n",
        "\n",
        "## Open Web Resources\n",
        "*  [Software Carpentry: Programming with Python](https://swcarpentry.github.io/python-novice-inflammation/)\n",
        "*   [Programming Historian: Python Lessons](https://programminghistorian.org/en/lessons/?topic=python)\n",
        "* [Introduction to Cultural Analytics & Python](https://melaniewalsh.github.io/Intro-Cultural-Analytics/welcome.html)\n",
        "* [Python Data Science Handbook](https://jakevdp.github.io/PythonDataScienceHandbook/) by Jake VanderPlas\n",
        "* For searching specific use-cases, try [Stack Overflow's community posts]( https://stackoverflow.com/questions/tagged/python)"
      ],
      "metadata": {
        "id": "KZ1MbnscuhuS"
      }
    },
    {
      "cell_type": "markdown",
      "source": [
        "# **References**\n",
        "___________________________________________________________________\n",
        "1. [Google Research FAQ](https://research.google.com/colaboratory/faq.html)\n",
        "2. [Open Data Handbook: Glossary: Machine Readable](https://opendatahandbook.org/glossary/en/terms/machine-readable/)\n",
        "3. Wing, J. M. (2006). Computational thinking. Communications of the ACM, 49(3), 33–35. https://doi.org/10.1145/1118178.1118215 \n",
        "4. [Programming with Python: Python Fundamentals](https://swcarpentry.github.io/python-novice-inflammation/01-intro/index.html) by The Carpentries. [CC-BY-4.0](https://creativecommons.org/licenses/by/4.0/)\n",
        "5. [Computational Notebooks and Beginner Syntax with Python](https://github.com/ualibweb/UALIB_Workshops/blob/master/04_Python_spring_2022/01_Python_computational_notebooks_and_syntax.ipynb) by Vincent Scalfani and UA Libraries. [MIT License](https://github.com/ualibweb/UALIB_Workshops/blob/master/LICENSE)\n",
        "6. [Help and Documentation in IPython](https://jakevdp.github.io/PythonDataScienceHandbook/01.01-help-and-documentation.html) by Jake VanderPlas.  [CC-BY-NC-ND](https://creativecommons.org/licenses/by-nc-nd/3.0/us/legalcode).\n",
        "7. [Overview of Colaboratory Features](https://colab.research.google.com/notebooks/basic_features_overview.ipynb)\n",
        "8. [Looping through multiple lists—Python cookbook by O'Reilly](https://www.oreilly.com/library/view/python-cookbook/0596001673/ch01s15.html)\n",
        "9. [Python Docs Glossary, Built-in Functions: Zip](https://docs.python.org/3/library/functions.html#zip)\n",
        "10. [\"7 ways to load external data into Google Colab\"](https://towardsdatascience.com/7-ways-to-load-external-data-into-google-colab-7ba73e7d5fc7) by B. Chen\n",
        "11. [Fiscal 2020 CEO Pay Ratios](http://ir.ua.edu/handle/123456789/8085), by Mark Siciliano, UA Libraries.\n",
        "12. [Pandas Docs, DataFrame.sort_values](https://pandas.pydata.org/docs/reference/api/pandas.DataFrame.sort_values.html)\n",
        "13. [Python Data Science Handbook](https://jakevdp.github.io/PythonDataScienceHandbook/) by Jake VanderPlas\n",
        "14. [Pandas Docs: DataFrame](https://pandas.pydata.org/docs/reference/api/pandas.DataFrame.html#pandas.DataFrame)\n",
        "15. [Python: Programming and Fundamentals](https://github.com/ualibweb/UALIB_Workshops/blob/master/04_Python_spring_2022/03_Python_Plotting_and_Data.ipynb)by Vincent Scalfani and UA Libraries. [MIT License](https://github.com/ualibweb/UALIB_Workshops/blob/master/LICENSE)\n",
        "16. [Stack Overflow: How to Select Rows form a DataFrame Based on Column Values](https://stackoverflow.com/questions/17071871/how-to-select-rows-from-a-dataframe-based-on-column-values)\n",
        "17. [Stack Overflow: How to Filter Rows Containing a String Pattern from a Pandas DataFrame](https://stackoverflow.com/questions/27975069/how-to-filter-rows-containing-a-string-pattern-from-a-pandas-dataframe)\n",
        "18. [Pandas Docs: User Guide, Indexing](https://pandas.pydata.org/pandas-docs/stable/user_guide/indexing.html)"
      ],
      "metadata": {
        "id": "RxSP5i5pyTGw"
      }
    },
    {
      "cell_type": "markdown",
      "source": [
        "# **MIT License**\n",
        "___________________________________________________________________\n",
        "Copyright (c) 2022 **Lance Simpson**\n",
        "\n",
        "Permission is hereby granted, free of charge, to any person obtaining a copy of this software and associated documentation files (the \"Software\"), to deal in the Software without restriction, including without limitation the rights to use, copy, modify, merge, publish, distribute, sublicense, and/or sell\n",
        "copies of the Software, and to permit persons to whom the Software is furnished to do so, subject to the following conditions:\n",
        "\n",
        "The above copyright notice and this permission notice shall be included in all copies or substantial portions of the Software.\n",
        "\n",
        "> THE SOFTWARE IS PROVIDED \"AS IS\", WITHOUT WARRANTY OF ANY KIND, EXPRESS OR IMPLIED, INCLUDING BUT NOT LIMITED TO THE WARRANTIES OF MERCHANTABILITY, FITNESS FOR A PARTICULAR PURPOSE AND NONINFRINGEMENT. IN NO EVENT SHALL THE AUTHORS OR COPYRIGHT HOLDERS BE LIABLE FOR ANY CLAIM, DAMAGES OR OTHER LIABILITY, WHETHER IN AN ACTION OF CONTRACT, TORT OR OTHERWISE, ARISING FROM,\n",
        "OUT OF OR IN CONNECTION WITH THE SOFTWARE OR THE USE OR OTHER DEALINGS IN THE SOFTWARE."
      ],
      "metadata": {
        "id": "SR2JBBsHDRcP"
      }
    }
  ]
}